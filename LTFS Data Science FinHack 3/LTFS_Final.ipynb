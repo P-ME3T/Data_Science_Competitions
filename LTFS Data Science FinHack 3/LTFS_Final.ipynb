{
 "cells": [
  {
   "cell_type": "code",
   "execution_count": 1,
   "metadata": {},
   "outputs": [],
   "source": [
    "import pandas as pd\n",
    "import numpy as np\n",
    "from numpy import loadtxt\n",
    "from sklearn.model_selection import train_test_split\n",
    "from sklearn.metrics import accuracy_score\n",
    "from matplotlib import pyplot"
   ]
  },
  {
   "cell_type": "code",
   "execution_count": 2,
   "metadata": {},
   "outputs": [],
   "source": [
    "train = pd.read_csv('ltfs_final.csv')\n",
    "test = pd.read_csv('test_final.csv')"
   ]
  },
  {
   "cell_type": "code",
   "execution_count": 3,
   "metadata": {
    "scrolled": true
   },
   "outputs": [
    {
     "data": {
      "text/plain": [
       "((128655, 47), (14745, 46))"
      ]
     },
     "execution_count": 3,
     "metadata": {},
     "output_type": "execute_result"
    }
   ],
   "source": [
    "train.shape,test.shape"
   ]
  },
  {
   "cell_type": "code",
   "execution_count": 4,
   "metadata": {},
   "outputs": [],
   "source": [
    "pd.set_option('display.max_columns', 100)"
   ]
  },
  {
   "cell_type": "code",
   "execution_count": 5,
   "metadata": {},
   "outputs": [],
   "source": [
    "pd.set_option('display.max_rows', 100)"
   ]
  },
  {
   "cell_type": "code",
   "execution_count": 6,
   "metadata": {},
   "outputs": [
    {
     "data": {
      "text/html": [
       "<div>\n",
       "<style scoped>\n",
       "    .dataframe tbody tr th:only-of-type {\n",
       "        vertical-align: middle;\n",
       "    }\n",
       "\n",
       "    .dataframe tbody tr th {\n",
       "        vertical-align: top;\n",
       "    }\n",
       "\n",
       "    .dataframe thead th {\n",
       "        text-align: right;\n",
       "    }\n",
       "</style>\n",
       "<table border=\"1\" class=\"dataframe\">\n",
       "  <thead>\n",
       "    <tr style=\"text-align: right;\">\n",
       "      <th></th>\n",
       "      <th>ID</th>\n",
       "      <th>SELF-INDICATOR-TRUE</th>\n",
       "      <th>MATCH-TYPE_PRIMARY</th>\n",
       "      <th>ACCOUNT-STATUS_Active</th>\n",
       "      <th>ACCOUNT-STATUS_Closed</th>\n",
       "      <th>ACCOUNT-STATUS_Default</th>\n",
       "      <th>ACCT-TYPE_Business Loan</th>\n",
       "      <th>ACCT-TYPE_Credit Card</th>\n",
       "      <th>ACCT-TYPE_Personal Loan</th>\n",
       "      <th>OWNERSHIP-IND_Individual</th>\n",
       "      <th>OWNERSHIP-IND_Joint</th>\n",
       "      <th>OWNERSHIP-IND_Primary</th>\n",
       "      <th>OWNERSHIP-IND_Supl Card Holder</th>\n",
       "      <th>CONTRIBUTOR-TYPE_LOW_CONTRIBUTOR</th>\n",
       "      <th>CONTRIBUTOR-TYPE_MID_CONTRIBUTOR</th>\n",
       "      <th>CONTRIBUTOR-TYPE_TOP_CONTRIBUTOR</th>\n",
       "      <th>Total-Loans</th>\n",
       "      <th>DISBURSED-AMT/HIGH CREDIT</th>\n",
       "      <th>INSTALLMENT-AMT</th>\n",
       "      <th>CURRENT-BAL</th>\n",
       "      <th>OVERDUE-AMT</th>\n",
       "      <th>WRITE-OFF-AMT</th>\n",
       "      <th>Frequency</th>\n",
       "      <th>InstlmentMode</th>\n",
       "      <th>LoanStatus</th>\n",
       "      <th>PaymentMode</th>\n",
       "      <th>BranchID</th>\n",
       "      <th>Area</th>\n",
       "      <th>Tenure</th>\n",
       "      <th>AssetCost</th>\n",
       "      <th>AmountFinance</th>\n",
       "      <th>DisbursalAmount</th>\n",
       "      <th>EMI</th>\n",
       "      <th>DisbursalDate</th>\n",
       "      <th>MaturityDAte</th>\n",
       "      <th>AuthDate</th>\n",
       "      <th>AssetID</th>\n",
       "      <th>ManufacturerID</th>\n",
       "      <th>SupplierID</th>\n",
       "      <th>LTV</th>\n",
       "      <th>SEX</th>\n",
       "      <th>AGE</th>\n",
       "      <th>MonthlyIncome</th>\n",
       "      <th>City</th>\n",
       "      <th>State</th>\n",
       "      <th>ZiPCODE</th>\n",
       "      <th>Top-up Month</th>\n",
       "    </tr>\n",
       "  </thead>\n",
       "  <tbody>\n",
       "    <tr>\n",
       "      <th>0</th>\n",
       "      <td>1</td>\n",
       "      <td>5</td>\n",
       "      <td>9</td>\n",
       "      <td>3</td>\n",
       "      <td>5</td>\n",
       "      <td>1</td>\n",
       "      <td>0</td>\n",
       "      <td>1</td>\n",
       "      <td>8</td>\n",
       "      <td>9</td>\n",
       "      <td>0</td>\n",
       "      <td>0</td>\n",
       "      <td>0</td>\n",
       "      <td>0</td>\n",
       "      <td>5</td>\n",
       "      <td>4</td>\n",
       "      <td>9</td>\n",
       "      <td>2201352</td>\n",
       "      <td>1037.666667</td>\n",
       "      <td>68725.11111</td>\n",
       "      <td>4208.111111</td>\n",
       "      <td>0</td>\n",
       "      <td>Monthly</td>\n",
       "      <td>Arrear</td>\n",
       "      <td>Closed</td>\n",
       "      <td>PDC_E</td>\n",
       "      <td>1</td>\n",
       "      <td>NaN</td>\n",
       "      <td>48</td>\n",
       "      <td>450000</td>\n",
       "      <td>275000.0</td>\n",
       "      <td>275000.0</td>\n",
       "      <td>24000.0</td>\n",
       "      <td>10-02-2012</td>\n",
       "      <td>15-01-2016</td>\n",
       "      <td>10-02-2012</td>\n",
       "      <td>4022465</td>\n",
       "      <td>1568</td>\n",
       "      <td>21946</td>\n",
       "      <td>61.11</td>\n",
       "      <td>M</td>\n",
       "      <td>49.0</td>\n",
       "      <td>35833.33</td>\n",
       "      <td>RAISEN</td>\n",
       "      <td>MADHYA PRADESH</td>\n",
       "      <td>464993.0</td>\n",
       "      <td>&gt; 48 Months</td>\n",
       "    </tr>\n",
       "    <tr>\n",
       "      <th>1</th>\n",
       "      <td>2</td>\n",
       "      <td>1</td>\n",
       "      <td>13</td>\n",
       "      <td>7</td>\n",
       "      <td>6</td>\n",
       "      <td>0</td>\n",
       "      <td>7</td>\n",
       "      <td>0</td>\n",
       "      <td>6</td>\n",
       "      <td>9</td>\n",
       "      <td>0</td>\n",
       "      <td>0</td>\n",
       "      <td>0</td>\n",
       "      <td>0</td>\n",
       "      <td>7</td>\n",
       "      <td>6</td>\n",
       "      <td>13</td>\n",
       "      <td>18117081</td>\n",
       "      <td>13404.846150</td>\n",
       "      <td>796112.07690</td>\n",
       "      <td>0.000000</td>\n",
       "      <td>0</td>\n",
       "      <td>Monthly</td>\n",
       "      <td>Advance</td>\n",
       "      <td>Closed</td>\n",
       "      <td>PDC</td>\n",
       "      <td>333</td>\n",
       "      <td>BHOPAL</td>\n",
       "      <td>47</td>\n",
       "      <td>485000</td>\n",
       "      <td>350000.0</td>\n",
       "      <td>350000.0</td>\n",
       "      <td>10500.0</td>\n",
       "      <td>31-03-2012</td>\n",
       "      <td>15-02-2016</td>\n",
       "      <td>31-03-2012</td>\n",
       "      <td>4681175</td>\n",
       "      <td>1062</td>\n",
       "      <td>34802</td>\n",
       "      <td>70.00</td>\n",
       "      <td>M</td>\n",
       "      <td>23.0</td>\n",
       "      <td>666.67</td>\n",
       "      <td>SEHORE</td>\n",
       "      <td>MADHYA PRADESH</td>\n",
       "      <td>466001.0</td>\n",
       "      <td>No Top-up Service</td>\n",
       "    </tr>\n",
       "    <tr>\n",
       "      <th>2</th>\n",
       "      <td>3</td>\n",
       "      <td>2</td>\n",
       "      <td>31</td>\n",
       "      <td>11</td>\n",
       "      <td>19</td>\n",
       "      <td>1</td>\n",
       "      <td>3</td>\n",
       "      <td>6</td>\n",
       "      <td>22</td>\n",
       "      <td>26</td>\n",
       "      <td>4</td>\n",
       "      <td>0</td>\n",
       "      <td>0</td>\n",
       "      <td>0</td>\n",
       "      <td>17</td>\n",
       "      <td>14</td>\n",
       "      <td>31</td>\n",
       "      <td>3708369</td>\n",
       "      <td>3078.580645</td>\n",
       "      <td>66618.22581</td>\n",
       "      <td>3338.387097</td>\n",
       "      <td>0</td>\n",
       "      <td>Quatrly</td>\n",
       "      <td>Arrear</td>\n",
       "      <td>Active</td>\n",
       "      <td>Direct Debit</td>\n",
       "      <td>1</td>\n",
       "      <td>NaN</td>\n",
       "      <td>68</td>\n",
       "      <td>690000</td>\n",
       "      <td>519728.0</td>\n",
       "      <td>519728.0</td>\n",
       "      <td>38300.0</td>\n",
       "      <td>17-06-2017</td>\n",
       "      <td>10-02-2023</td>\n",
       "      <td>17-06-2017</td>\n",
       "      <td>25328146</td>\n",
       "      <td>1060</td>\n",
       "      <td>127335</td>\n",
       "      <td>69.77</td>\n",
       "      <td>M</td>\n",
       "      <td>39.0</td>\n",
       "      <td>45257.00</td>\n",
       "      <td>BHOPAL</td>\n",
       "      <td>MADHYA PRADESH</td>\n",
       "      <td>462030.0</td>\n",
       "      <td>12-18 Months</td>\n",
       "    </tr>\n",
       "    <tr>\n",
       "      <th>3</th>\n",
       "      <td>7</td>\n",
       "      <td>2</td>\n",
       "      <td>4</td>\n",
       "      <td>2</td>\n",
       "      <td>2</td>\n",
       "      <td>0</td>\n",
       "      <td>0</td>\n",
       "      <td>0</td>\n",
       "      <td>4</td>\n",
       "      <td>4</td>\n",
       "      <td>0</td>\n",
       "      <td>0</td>\n",
       "      <td>0</td>\n",
       "      <td>0</td>\n",
       "      <td>4</td>\n",
       "      <td>0</td>\n",
       "      <td>4</td>\n",
       "      <td>1272553</td>\n",
       "      <td>1392.750000</td>\n",
       "      <td>156000.00000</td>\n",
       "      <td>0.000000</td>\n",
       "      <td>0</td>\n",
       "      <td>Monthly</td>\n",
       "      <td>Advance</td>\n",
       "      <td>Closed</td>\n",
       "      <td>Billed</td>\n",
       "      <td>125</td>\n",
       "      <td>GUNA</td>\n",
       "      <td>48</td>\n",
       "      <td>480000</td>\n",
       "      <td>400000.0</td>\n",
       "      <td>400000.0</td>\n",
       "      <td>11600.0</td>\n",
       "      <td>29-11-2013</td>\n",
       "      <td>10-11-2017</td>\n",
       "      <td>29-11-2013</td>\n",
       "      <td>13021591</td>\n",
       "      <td>1060</td>\n",
       "      <td>25094</td>\n",
       "      <td>80.92</td>\n",
       "      <td>M</td>\n",
       "      <td>24.0</td>\n",
       "      <td>20833.33</td>\n",
       "      <td>ASHOK NAGAR</td>\n",
       "      <td>MADHYA PRADESH</td>\n",
       "      <td>473335.0</td>\n",
       "      <td>&gt; 48 Months</td>\n",
       "    </tr>\n",
       "    <tr>\n",
       "      <th>4</th>\n",
       "      <td>8</td>\n",
       "      <td>1</td>\n",
       "      <td>7</td>\n",
       "      <td>3</td>\n",
       "      <td>2</td>\n",
       "      <td>2</td>\n",
       "      <td>1</td>\n",
       "      <td>0</td>\n",
       "      <td>6</td>\n",
       "      <td>3</td>\n",
       "      <td>3</td>\n",
       "      <td>0</td>\n",
       "      <td>0</td>\n",
       "      <td>0</td>\n",
       "      <td>4</td>\n",
       "      <td>3</td>\n",
       "      <td>7</td>\n",
       "      <td>2025216</td>\n",
       "      <td>1248.285714</td>\n",
       "      <td>139159.85710</td>\n",
       "      <td>5026.428571</td>\n",
       "      <td>0</td>\n",
       "      <td>Monthly</td>\n",
       "      <td>Arrear</td>\n",
       "      <td>Closed</td>\n",
       "      <td>Billed</td>\n",
       "      <td>152</td>\n",
       "      <td>BILASPUR</td>\n",
       "      <td>44</td>\n",
       "      <td>619265</td>\n",
       "      <td>440000.0</td>\n",
       "      <td>440000.0</td>\n",
       "      <td>15000.0</td>\n",
       "      <td>08-12-2011</td>\n",
       "      <td>05-07-2015</td>\n",
       "      <td>08-12-2011</td>\n",
       "      <td>3291320</td>\n",
       "      <td>1046</td>\n",
       "      <td>21853</td>\n",
       "      <td>71.05</td>\n",
       "      <td>M</td>\n",
       "      <td>56.0</td>\n",
       "      <td>27313.67</td>\n",
       "      <td>BILASPUR</td>\n",
       "      <td>CHATTISGARH</td>\n",
       "      <td>495442.0</td>\n",
       "      <td>36-48 Months</td>\n",
       "    </tr>\n",
       "  </tbody>\n",
       "</table>\n",
       "</div>"
      ],
      "text/plain": [
       "   ID  SELF-INDICATOR-TRUE  MATCH-TYPE_PRIMARY  ACCOUNT-STATUS_Active  \\\n",
       "0   1                    5                   9                      3   \n",
       "1   2                    1                  13                      7   \n",
       "2   3                    2                  31                     11   \n",
       "3   7                    2                   4                      2   \n",
       "4   8                    1                   7                      3   \n",
       "\n",
       "   ACCOUNT-STATUS_Closed  ACCOUNT-STATUS_Default  ACCT-TYPE_Business Loan  \\\n",
       "0                      5                       1                        0   \n",
       "1                      6                       0                        7   \n",
       "2                     19                       1                        3   \n",
       "3                      2                       0                        0   \n",
       "4                      2                       2                        1   \n",
       "\n",
       "   ACCT-TYPE_Credit Card  ACCT-TYPE_Personal Loan  OWNERSHIP-IND_Individual  \\\n",
       "0                      1                        8                         9   \n",
       "1                      0                        6                         9   \n",
       "2                      6                       22                        26   \n",
       "3                      0                        4                         4   \n",
       "4                      0                        6                         3   \n",
       "\n",
       "   OWNERSHIP-IND_Joint  OWNERSHIP-IND_Primary  OWNERSHIP-IND_Supl Card Holder  \\\n",
       "0                    0                      0                               0   \n",
       "1                    0                      0                               0   \n",
       "2                    4                      0                               0   \n",
       "3                    0                      0                               0   \n",
       "4                    3                      0                               0   \n",
       "\n",
       "   CONTRIBUTOR-TYPE_LOW_CONTRIBUTOR  CONTRIBUTOR-TYPE_MID_CONTRIBUTOR  \\\n",
       "0                                 0                                 5   \n",
       "1                                 0                                 7   \n",
       "2                                 0                                17   \n",
       "3                                 0                                 4   \n",
       "4                                 0                                 4   \n",
       "\n",
       "   CONTRIBUTOR-TYPE_TOP_CONTRIBUTOR  Total-Loans  DISBURSED-AMT/HIGH CREDIT  \\\n",
       "0                                 4            9                    2201352   \n",
       "1                                 6           13                   18117081   \n",
       "2                                14           31                    3708369   \n",
       "3                                 0            4                    1272553   \n",
       "4                                 3            7                    2025216   \n",
       "\n",
       "   INSTALLMENT-AMT   CURRENT-BAL  OVERDUE-AMT  WRITE-OFF-AMT Frequency  \\\n",
       "0      1037.666667   68725.11111  4208.111111              0   Monthly   \n",
       "1     13404.846150  796112.07690     0.000000              0   Monthly   \n",
       "2      3078.580645   66618.22581  3338.387097              0   Quatrly   \n",
       "3      1392.750000  156000.00000     0.000000              0   Monthly   \n",
       "4      1248.285714  139159.85710  5026.428571              0   Monthly   \n",
       "\n",
       "  InstlmentMode LoanStatus   PaymentMode  BranchID      Area  Tenure  \\\n",
       "0        Arrear     Closed         PDC_E         1       NaN      48   \n",
       "1       Advance     Closed           PDC       333    BHOPAL      47   \n",
       "2        Arrear     Active  Direct Debit         1       NaN      68   \n",
       "3       Advance     Closed        Billed       125      GUNA      48   \n",
       "4        Arrear     Closed        Billed       152  BILASPUR      44   \n",
       "\n",
       "   AssetCost  AmountFinance  DisbursalAmount      EMI DisbursalDate  \\\n",
       "0     450000       275000.0         275000.0  24000.0    10-02-2012   \n",
       "1     485000       350000.0         350000.0  10500.0    31-03-2012   \n",
       "2     690000       519728.0         519728.0  38300.0    17-06-2017   \n",
       "3     480000       400000.0         400000.0  11600.0    29-11-2013   \n",
       "4     619265       440000.0         440000.0  15000.0    08-12-2011   \n",
       "\n",
       "  MaturityDAte    AuthDate   AssetID  ManufacturerID  SupplierID    LTV SEX  \\\n",
       "0   15-01-2016  10-02-2012   4022465            1568       21946  61.11   M   \n",
       "1   15-02-2016  31-03-2012   4681175            1062       34802  70.00   M   \n",
       "2   10-02-2023  17-06-2017  25328146            1060      127335  69.77   M   \n",
       "3   10-11-2017  29-11-2013  13021591            1060       25094  80.92   M   \n",
       "4   05-07-2015  08-12-2011   3291320            1046       21853  71.05   M   \n",
       "\n",
       "    AGE  MonthlyIncome         City           State   ZiPCODE  \\\n",
       "0  49.0       35833.33       RAISEN  MADHYA PRADESH  464993.0   \n",
       "1  23.0         666.67       SEHORE  MADHYA PRADESH  466001.0   \n",
       "2  39.0       45257.00       BHOPAL  MADHYA PRADESH  462030.0   \n",
       "3  24.0       20833.33  ASHOK NAGAR  MADHYA PRADESH  473335.0   \n",
       "4  56.0       27313.67     BILASPUR     CHATTISGARH  495442.0   \n",
       "\n",
       "        Top-up Month  \n",
       "0        > 48 Months  \n",
       "1  No Top-up Service  \n",
       "2       12-18 Months  \n",
       "3        > 48 Months  \n",
       "4       36-48 Months  "
      ]
     },
     "execution_count": 6,
     "metadata": {},
     "output_type": "execute_result"
    }
   ],
   "source": [
    "train.head()"
   ]
  },
  {
   "cell_type": "code",
   "execution_count": 52,
   "metadata": {},
   "outputs": [],
   "source": [
    "train = train.drop(columns=['Unnamed: 47'],axis=1)"
   ]
  },
  {
   "cell_type": "code",
   "execution_count": 53,
   "metadata": {},
   "outputs": [
    {
     "data": {
      "text/html": [
       "<div>\n",
       "<style scoped>\n",
       "    .dataframe tbody tr th:only-of-type {\n",
       "        vertical-align: middle;\n",
       "    }\n",
       "\n",
       "    .dataframe tbody tr th {\n",
       "        vertical-align: top;\n",
       "    }\n",
       "\n",
       "    .dataframe thead th {\n",
       "        text-align: right;\n",
       "    }\n",
       "</style>\n",
       "<table border=\"1\" class=\"dataframe\">\n",
       "  <thead>\n",
       "    <tr style=\"text-align: right;\">\n",
       "      <th></th>\n",
       "      <th>ID</th>\n",
       "      <th>SELF-INDICATOR-TRUE</th>\n",
       "      <th>MATCH-TYPE_PRIMARY</th>\n",
       "      <th>ACCOUNT-STATUS_Active</th>\n",
       "      <th>ACCOUNT-STATUS_Closed</th>\n",
       "      <th>ACCOUNT-STATUS_Default</th>\n",
       "      <th>ACCT-TYPE_Business Loan</th>\n",
       "      <th>ACCT-TYPE_Credit Card</th>\n",
       "      <th>ACCT-TYPE_Personal Loan</th>\n",
       "      <th>OWNERSHIP-IND_Individual</th>\n",
       "      <th>OWNERSHIP-IND_Joint</th>\n",
       "      <th>OWNERSHIP-IND_Primary</th>\n",
       "      <th>OWNERSHIP-IND_Supl Card Holder</th>\n",
       "      <th>CONTRIBUTOR-TYPE_LOW_CONTRIBUTOR</th>\n",
       "      <th>CONTRIBUTOR-TYPE_MID_CONTRIBUTOR</th>\n",
       "      <th>CONTRIBUTOR-TYPE_TOP_CONTRIBUTOR</th>\n",
       "      <th>Total-Loans</th>\n",
       "      <th>DISBURSED-AMT/HIGH CREDIT</th>\n",
       "      <th>INSTALLMENT-AMT</th>\n",
       "      <th>CURRENT-BAL</th>\n",
       "      <th>OVERDUE-AMT</th>\n",
       "      <th>WRITE-OFF-AMT</th>\n",
       "      <th>Frequency</th>\n",
       "      <th>InstlmentMode</th>\n",
       "      <th>LoanStatus</th>\n",
       "      <th>PaymentMode</th>\n",
       "      <th>BranchID</th>\n",
       "      <th>Area</th>\n",
       "      <th>Tenure</th>\n",
       "      <th>AssetCost</th>\n",
       "      <th>AmountFinance</th>\n",
       "      <th>DisbursalAmount</th>\n",
       "      <th>EMI</th>\n",
       "      <th>DisbursalDate</th>\n",
       "      <th>MaturityDAte</th>\n",
       "      <th>AuthDate</th>\n",
       "      <th>AssetID</th>\n",
       "      <th>ManufacturerID</th>\n",
       "      <th>SupplierID</th>\n",
       "      <th>LTV</th>\n",
       "      <th>SEX</th>\n",
       "      <th>AGE</th>\n",
       "      <th>MonthlyIncome</th>\n",
       "      <th>City</th>\n",
       "      <th>State</th>\n",
       "      <th>ZiPCODE</th>\n",
       "      <th>Top-up Month</th>\n",
       "    </tr>\n",
       "  </thead>\n",
       "  <tbody>\n",
       "    <tr>\n",
       "      <th>0</th>\n",
       "      <td>1</td>\n",
       "      <td>5</td>\n",
       "      <td>9</td>\n",
       "      <td>3</td>\n",
       "      <td>5</td>\n",
       "      <td>1</td>\n",
       "      <td>0</td>\n",
       "      <td>1</td>\n",
       "      <td>8</td>\n",
       "      <td>9</td>\n",
       "      <td>0</td>\n",
       "      <td>0</td>\n",
       "      <td>0</td>\n",
       "      <td>0</td>\n",
       "      <td>5</td>\n",
       "      <td>4</td>\n",
       "      <td>9</td>\n",
       "      <td>2201352</td>\n",
       "      <td>1037.666667</td>\n",
       "      <td>68725.11111</td>\n",
       "      <td>4208.111111</td>\n",
       "      <td>0</td>\n",
       "      <td>Monthly</td>\n",
       "      <td>Arrear</td>\n",
       "      <td>Closed</td>\n",
       "      <td>PDC_E</td>\n",
       "      <td>1</td>\n",
       "      <td>NaN</td>\n",
       "      <td>48</td>\n",
       "      <td>450000</td>\n",
       "      <td>275000.0</td>\n",
       "      <td>275000.0</td>\n",
       "      <td>24000.0</td>\n",
       "      <td>10-02-2012</td>\n",
       "      <td>15-01-2016</td>\n",
       "      <td>10-02-2012</td>\n",
       "      <td>4022465</td>\n",
       "      <td>1568</td>\n",
       "      <td>21946</td>\n",
       "      <td>61.11</td>\n",
       "      <td>M</td>\n",
       "      <td>49.0</td>\n",
       "      <td>35833.33</td>\n",
       "      <td>RAISEN</td>\n",
       "      <td>MADHYA PRADESH</td>\n",
       "      <td>464993.0</td>\n",
       "      <td>&gt; 48 Months</td>\n",
       "    </tr>\n",
       "    <tr>\n",
       "      <th>1</th>\n",
       "      <td>2</td>\n",
       "      <td>1</td>\n",
       "      <td>13</td>\n",
       "      <td>7</td>\n",
       "      <td>6</td>\n",
       "      <td>0</td>\n",
       "      <td>7</td>\n",
       "      <td>0</td>\n",
       "      <td>6</td>\n",
       "      <td>9</td>\n",
       "      <td>0</td>\n",
       "      <td>0</td>\n",
       "      <td>0</td>\n",
       "      <td>0</td>\n",
       "      <td>7</td>\n",
       "      <td>6</td>\n",
       "      <td>13</td>\n",
       "      <td>18117081</td>\n",
       "      <td>13404.846150</td>\n",
       "      <td>796112.07690</td>\n",
       "      <td>0.000000</td>\n",
       "      <td>0</td>\n",
       "      <td>Monthly</td>\n",
       "      <td>Advance</td>\n",
       "      <td>Closed</td>\n",
       "      <td>PDC</td>\n",
       "      <td>333</td>\n",
       "      <td>BHOPAL</td>\n",
       "      <td>47</td>\n",
       "      <td>485000</td>\n",
       "      <td>350000.0</td>\n",
       "      <td>350000.0</td>\n",
       "      <td>10500.0</td>\n",
       "      <td>31-03-2012</td>\n",
       "      <td>15-02-2016</td>\n",
       "      <td>31-03-2012</td>\n",
       "      <td>4681175</td>\n",
       "      <td>1062</td>\n",
       "      <td>34802</td>\n",
       "      <td>70.00</td>\n",
       "      <td>M</td>\n",
       "      <td>23.0</td>\n",
       "      <td>666.67</td>\n",
       "      <td>SEHORE</td>\n",
       "      <td>MADHYA PRADESH</td>\n",
       "      <td>466001.0</td>\n",
       "      <td>No Top-up Service</td>\n",
       "    </tr>\n",
       "    <tr>\n",
       "      <th>2</th>\n",
       "      <td>3</td>\n",
       "      <td>2</td>\n",
       "      <td>31</td>\n",
       "      <td>11</td>\n",
       "      <td>19</td>\n",
       "      <td>1</td>\n",
       "      <td>3</td>\n",
       "      <td>6</td>\n",
       "      <td>22</td>\n",
       "      <td>26</td>\n",
       "      <td>4</td>\n",
       "      <td>0</td>\n",
       "      <td>0</td>\n",
       "      <td>0</td>\n",
       "      <td>17</td>\n",
       "      <td>14</td>\n",
       "      <td>31</td>\n",
       "      <td>3708369</td>\n",
       "      <td>3078.580645</td>\n",
       "      <td>66618.22581</td>\n",
       "      <td>3338.387097</td>\n",
       "      <td>0</td>\n",
       "      <td>Quatrly</td>\n",
       "      <td>Arrear</td>\n",
       "      <td>Active</td>\n",
       "      <td>Direct Debit</td>\n",
       "      <td>1</td>\n",
       "      <td>NaN</td>\n",
       "      <td>68</td>\n",
       "      <td>690000</td>\n",
       "      <td>519728.0</td>\n",
       "      <td>519728.0</td>\n",
       "      <td>38300.0</td>\n",
       "      <td>17-06-2017</td>\n",
       "      <td>10-02-2023</td>\n",
       "      <td>17-06-2017</td>\n",
       "      <td>25328146</td>\n",
       "      <td>1060</td>\n",
       "      <td>127335</td>\n",
       "      <td>69.77</td>\n",
       "      <td>M</td>\n",
       "      <td>39.0</td>\n",
       "      <td>45257.00</td>\n",
       "      <td>BHOPAL</td>\n",
       "      <td>MADHYA PRADESH</td>\n",
       "      <td>462030.0</td>\n",
       "      <td>12-18 Months</td>\n",
       "    </tr>\n",
       "    <tr>\n",
       "      <th>3</th>\n",
       "      <td>7</td>\n",
       "      <td>2</td>\n",
       "      <td>4</td>\n",
       "      <td>2</td>\n",
       "      <td>2</td>\n",
       "      <td>0</td>\n",
       "      <td>0</td>\n",
       "      <td>0</td>\n",
       "      <td>4</td>\n",
       "      <td>4</td>\n",
       "      <td>0</td>\n",
       "      <td>0</td>\n",
       "      <td>0</td>\n",
       "      <td>0</td>\n",
       "      <td>4</td>\n",
       "      <td>0</td>\n",
       "      <td>4</td>\n",
       "      <td>1272553</td>\n",
       "      <td>1392.750000</td>\n",
       "      <td>156000.00000</td>\n",
       "      <td>0.000000</td>\n",
       "      <td>0</td>\n",
       "      <td>Monthly</td>\n",
       "      <td>Advance</td>\n",
       "      <td>Closed</td>\n",
       "      <td>Billed</td>\n",
       "      <td>125</td>\n",
       "      <td>GUNA</td>\n",
       "      <td>48</td>\n",
       "      <td>480000</td>\n",
       "      <td>400000.0</td>\n",
       "      <td>400000.0</td>\n",
       "      <td>11600.0</td>\n",
       "      <td>29-11-2013</td>\n",
       "      <td>10-11-2017</td>\n",
       "      <td>29-11-2013</td>\n",
       "      <td>13021591</td>\n",
       "      <td>1060</td>\n",
       "      <td>25094</td>\n",
       "      <td>80.92</td>\n",
       "      <td>M</td>\n",
       "      <td>24.0</td>\n",
       "      <td>20833.33</td>\n",
       "      <td>ASHOK NAGAR</td>\n",
       "      <td>MADHYA PRADESH</td>\n",
       "      <td>473335.0</td>\n",
       "      <td>&gt; 48 Months</td>\n",
       "    </tr>\n",
       "    <tr>\n",
       "      <th>4</th>\n",
       "      <td>8</td>\n",
       "      <td>1</td>\n",
       "      <td>7</td>\n",
       "      <td>3</td>\n",
       "      <td>2</td>\n",
       "      <td>2</td>\n",
       "      <td>1</td>\n",
       "      <td>0</td>\n",
       "      <td>6</td>\n",
       "      <td>3</td>\n",
       "      <td>3</td>\n",
       "      <td>0</td>\n",
       "      <td>0</td>\n",
       "      <td>0</td>\n",
       "      <td>4</td>\n",
       "      <td>3</td>\n",
       "      <td>7</td>\n",
       "      <td>2025216</td>\n",
       "      <td>1248.285714</td>\n",
       "      <td>139159.85710</td>\n",
       "      <td>5026.428571</td>\n",
       "      <td>0</td>\n",
       "      <td>Monthly</td>\n",
       "      <td>Arrear</td>\n",
       "      <td>Closed</td>\n",
       "      <td>Billed</td>\n",
       "      <td>152</td>\n",
       "      <td>BILASPUR</td>\n",
       "      <td>44</td>\n",
       "      <td>619265</td>\n",
       "      <td>440000.0</td>\n",
       "      <td>440000.0</td>\n",
       "      <td>15000.0</td>\n",
       "      <td>08-12-2011</td>\n",
       "      <td>05-07-2015</td>\n",
       "      <td>08-12-2011</td>\n",
       "      <td>3291320</td>\n",
       "      <td>1046</td>\n",
       "      <td>21853</td>\n",
       "      <td>71.05</td>\n",
       "      <td>M</td>\n",
       "      <td>56.0</td>\n",
       "      <td>27313.67</td>\n",
       "      <td>BILASPUR</td>\n",
       "      <td>CHATTISGARH</td>\n",
       "      <td>495442.0</td>\n",
       "      <td>36-48 Months</td>\n",
       "    </tr>\n",
       "  </tbody>\n",
       "</table>\n",
       "</div>"
      ],
      "text/plain": [
       "   ID  SELF-INDICATOR-TRUE  MATCH-TYPE_PRIMARY  ACCOUNT-STATUS_Active  \\\n",
       "0   1                    5                   9                      3   \n",
       "1   2                    1                  13                      7   \n",
       "2   3                    2                  31                     11   \n",
       "3   7                    2                   4                      2   \n",
       "4   8                    1                   7                      3   \n",
       "\n",
       "   ACCOUNT-STATUS_Closed  ACCOUNT-STATUS_Default  ACCT-TYPE_Business Loan  \\\n",
       "0                      5                       1                        0   \n",
       "1                      6                       0                        7   \n",
       "2                     19                       1                        3   \n",
       "3                      2                       0                        0   \n",
       "4                      2                       2                        1   \n",
       "\n",
       "   ACCT-TYPE_Credit Card  ACCT-TYPE_Personal Loan  OWNERSHIP-IND_Individual  \\\n",
       "0                      1                        8                         9   \n",
       "1                      0                        6                         9   \n",
       "2                      6                       22                        26   \n",
       "3                      0                        4                         4   \n",
       "4                      0                        6                         3   \n",
       "\n",
       "   OWNERSHIP-IND_Joint  OWNERSHIP-IND_Primary  OWNERSHIP-IND_Supl Card Holder  \\\n",
       "0                    0                      0                               0   \n",
       "1                    0                      0                               0   \n",
       "2                    4                      0                               0   \n",
       "3                    0                      0                               0   \n",
       "4                    3                      0                               0   \n",
       "\n",
       "   CONTRIBUTOR-TYPE_LOW_CONTRIBUTOR  CONTRIBUTOR-TYPE_MID_CONTRIBUTOR  \\\n",
       "0                                 0                                 5   \n",
       "1                                 0                                 7   \n",
       "2                                 0                                17   \n",
       "3                                 0                                 4   \n",
       "4                                 0                                 4   \n",
       "\n",
       "   CONTRIBUTOR-TYPE_TOP_CONTRIBUTOR  Total-Loans  DISBURSED-AMT/HIGH CREDIT  \\\n",
       "0                                 4            9                    2201352   \n",
       "1                                 6           13                   18117081   \n",
       "2                                14           31                    3708369   \n",
       "3                                 0            4                    1272553   \n",
       "4                                 3            7                    2025216   \n",
       "\n",
       "   INSTALLMENT-AMT   CURRENT-BAL  OVERDUE-AMT  WRITE-OFF-AMT Frequency  \\\n",
       "0      1037.666667   68725.11111  4208.111111              0   Monthly   \n",
       "1     13404.846150  796112.07690     0.000000              0   Monthly   \n",
       "2      3078.580645   66618.22581  3338.387097              0   Quatrly   \n",
       "3      1392.750000  156000.00000     0.000000              0   Monthly   \n",
       "4      1248.285714  139159.85710  5026.428571              0   Monthly   \n",
       "\n",
       "  InstlmentMode LoanStatus   PaymentMode  BranchID      Area  Tenure  \\\n",
       "0        Arrear     Closed         PDC_E         1       NaN      48   \n",
       "1       Advance     Closed           PDC       333    BHOPAL      47   \n",
       "2        Arrear     Active  Direct Debit         1       NaN      68   \n",
       "3       Advance     Closed        Billed       125      GUNA      48   \n",
       "4        Arrear     Closed        Billed       152  BILASPUR      44   \n",
       "\n",
       "   AssetCost  AmountFinance  DisbursalAmount      EMI DisbursalDate  \\\n",
       "0     450000       275000.0         275000.0  24000.0    10-02-2012   \n",
       "1     485000       350000.0         350000.0  10500.0    31-03-2012   \n",
       "2     690000       519728.0         519728.0  38300.0    17-06-2017   \n",
       "3     480000       400000.0         400000.0  11600.0    29-11-2013   \n",
       "4     619265       440000.0         440000.0  15000.0    08-12-2011   \n",
       "\n",
       "  MaturityDAte    AuthDate   AssetID  ManufacturerID  SupplierID    LTV SEX  \\\n",
       "0   15-01-2016  10-02-2012   4022465            1568       21946  61.11   M   \n",
       "1   15-02-2016  31-03-2012   4681175            1062       34802  70.00   M   \n",
       "2   10-02-2023  17-06-2017  25328146            1060      127335  69.77   M   \n",
       "3   10-11-2017  29-11-2013  13021591            1060       25094  80.92   M   \n",
       "4   05-07-2015  08-12-2011   3291320            1046       21853  71.05   M   \n",
       "\n",
       "    AGE  MonthlyIncome         City           State   ZiPCODE  \\\n",
       "0  49.0       35833.33       RAISEN  MADHYA PRADESH  464993.0   \n",
       "1  23.0         666.67       SEHORE  MADHYA PRADESH  466001.0   \n",
       "2  39.0       45257.00       BHOPAL  MADHYA PRADESH  462030.0   \n",
       "3  24.0       20833.33  ASHOK NAGAR  MADHYA PRADESH  473335.0   \n",
       "4  56.0       27313.67     BILASPUR     CHATTISGARH  495442.0   \n",
       "\n",
       "        Top-up Month  \n",
       "0        > 48 Months  \n",
       "1  No Top-up Service  \n",
       "2       12-18 Months  \n",
       "3        > 48 Months  \n",
       "4       36-48 Months  "
      ]
     },
     "execution_count": 53,
     "metadata": {},
     "output_type": "execute_result"
    }
   ],
   "source": [
    "train.head()"
   ]
  },
  {
   "cell_type": "code",
   "execution_count": 7,
   "metadata": {},
   "outputs": [
    {
     "data": {
      "text/plain": [
       "ID                                      0\n",
       "SELF-INDICATOR-TRUE                     0\n",
       "MATCH-TYPE_PRIMARY                      0\n",
       "ACCOUNT-STATUS_Active                   0\n",
       "ACCOUNT-STATUS_Closed                   0\n",
       "ACCOUNT-STATUS_Default                  0\n",
       "ACCT-TYPE_Business Loan                 0\n",
       "ACCT-TYPE_Credit Card                   0\n",
       "ACCT-TYPE_Personal Loan                 0\n",
       "OWNERSHIP-IND_Individual                0\n",
       "OWNERSHIP-IND_Joint                     0\n",
       "OWNERSHIP-IND_Primary                   0\n",
       "OWNERSHIP-IND_Supl Card Holder          0\n",
       "CONTRIBUTOR-TYPE_LOW_CONTRIBUTOR        0\n",
       "CONTRIBUTOR-TYPE_MID_CONTRIBUTOR        0\n",
       "CONTRIBUTOR-TYPE_TOP_CONTRIBUTOR        0\n",
       "Total-Loans                             0\n",
       "DISBURSED-AMT/HIGH CREDIT               0\n",
       "INSTALLMENT-AMT                         0\n",
       "CURRENT-BAL                             0\n",
       "OVERDUE-AMT                             0\n",
       "WRITE-OFF-AMT                           0\n",
       "Frequency                               0\n",
       "InstlmentMode                           0\n",
       "LoanStatus                              0\n",
       "PaymentMode                             0\n",
       "BranchID                                0\n",
       "Area                                11653\n",
       "Tenure                                  0\n",
       "AssetCost                               0\n",
       "AmountFinance                           0\n",
       "DisbursalAmount                         0\n",
       "EMI                                     0\n",
       "DisbursalDate                           0\n",
       "MaturityDAte                            1\n",
       "AuthDate                                0\n",
       "AssetID                                 0\n",
       "ManufacturerID                          0\n",
       "SupplierID                              0\n",
       "LTV                                     0\n",
       "SEX                                    59\n",
       "AGE                                    59\n",
       "MonthlyIncome                         234\n",
       "City                                11256\n",
       "State                                   0\n",
       "ZiPCODE                               372\n",
       "Top-up Month                            0\n",
       "dtype: int64"
      ]
     },
     "execution_count": 7,
     "metadata": {},
     "output_type": "execute_result"
    }
   ],
   "source": [
    "train.isnull().sum()"
   ]
  },
  {
   "cell_type": "code",
   "execution_count": 8,
   "metadata": {},
   "outputs": [],
   "source": [
    "train=train.rename(columns={'InstlmentMode':'Installment_mode','LoanStatus':'Loan_status', 'PaymentMode':'Payment_mode',\n",
    "       'BranchID':'Branch_ID','AssetCost':'Asset_cost', 'AmountFinance':'Amount_finance',\n",
    "       'DisbursalAmount':'Disbursal_amount','DisbursalDate':'Disbursal_date','MaturityDAte':'Maturity_date', 'AuthDate':'Auth_date',\n",
    "       'AssetID':'Asset_ID', 'ManufacturerID':'Manufacturer_ID', 'SupplierID':'Supplier_ID', 'LTV':'Loan_To_Value', 'SEX':'Sex', 'AGE':'Age',\n",
    "       'MonthlyIncome':'Monthly_income', 'ZiPCODE':'Zipcode','Top-up Month':'Top-up_month'})"
   ]
  },
  {
   "cell_type": "code",
   "execution_count": 9,
   "metadata": {},
   "outputs": [
    {
     "data": {
      "text/plain": [
       "ID                                      0\n",
       "SELF-INDICATOR-TRUE                     0\n",
       "MATCH-TYPE_PRIMARY                      0\n",
       "ACCOUNT-STATUS_Active                   0\n",
       "ACCOUNT-STATUS_Closed                   0\n",
       "ACCOUNT-STATUS_Default                  0\n",
       "ACCT-TYPE_Business Loan                 0\n",
       "ACCT-TYPE_Credit Card                   0\n",
       "ACCT-TYPE_Personal Loan                 0\n",
       "OWNERSHIP-IND_Individual                0\n",
       "OWNERSHIP-IND_Joint                     0\n",
       "OWNERSHIP-IND_Primary                   0\n",
       "OWNERSHIP-IND_Supl Card Holder          0\n",
       "CONTRIBUTOR-TYPE_LOW_CONTRIBUTOR        0\n",
       "CONTRIBUTOR-TYPE_MID_CONTRIBUTOR        0\n",
       "CONTRIBUTOR-TYPE_TOP_CONTRIBUTOR        0\n",
       "Total-Loans                             0\n",
       "DISBURSED-AMT/HIGH CREDIT               0\n",
       "INSTALLMENT-AMT                         0\n",
       "CURRENT-BAL                             0\n",
       "OVERDUE-AMT                             0\n",
       "WRITE-OFF-AMT                           0\n",
       "Frequency                               0\n",
       "Installment_mode                        0\n",
       "Loan_status                             0\n",
       "Payment_mode                            0\n",
       "Branch_ID                               0\n",
       "Area                                11653\n",
       "Tenure                                  0\n",
       "Asset_cost                              0\n",
       "Amount_finance                          0\n",
       "Disbursal_amount                        0\n",
       "EMI                                     0\n",
       "Disbursal_date                          0\n",
       "Maturity_date                           1\n",
       "Auth_date                               0\n",
       "Asset_ID                                0\n",
       "Manufacturer_ID                         0\n",
       "Supplier_ID                             0\n",
       "Loan_To_Value                           0\n",
       "Sex                                    59\n",
       "Age                                    59\n",
       "Monthly_income                        234\n",
       "City                                11256\n",
       "State                                   0\n",
       "Zipcode                               372\n",
       "Top-up_month                            0\n",
       "dtype: int64"
      ]
     },
     "execution_count": 9,
     "metadata": {},
     "output_type": "execute_result"
    }
   ],
   "source": [
    "train.isnull().sum()"
   ]
  },
  {
   "cell_type": "code",
   "execution_count": 10,
   "metadata": {},
   "outputs": [
    {
     "data": {
      "text/plain": [
       "(128595, 47)"
      ]
     },
     "execution_count": 10,
     "metadata": {},
     "output_type": "execute_result"
    }
   ],
   "source": [
    "train = train.dropna(subset=['Sex','Age','Maturity_date'])\n",
    "train.shape"
   ]
  },
  {
   "cell_type": "code",
   "execution_count": 11,
   "metadata": {},
   "outputs": [],
   "source": [
    "dict_zipcode = train.set_index('Zipcode')['City'].to_dict()"
   ]
  },
  {
   "cell_type": "code",
   "execution_count": 12,
   "metadata": {},
   "outputs": [],
   "source": [
    "for i in range(len(train)):\n",
    "    if (pd.isnull(train.iloc[i,43])==True):\n",
    "        x = train.iloc[i,45]\n",
    "        train.iloc[i,43] = dict_zipcode.get(x)"
   ]
  },
  {
   "cell_type": "code",
   "execution_count": 13,
   "metadata": {},
   "outputs": [
    {
     "data": {
      "text/plain": [
       "ID                                      0\n",
       "SELF-INDICATOR-TRUE                     0\n",
       "MATCH-TYPE_PRIMARY                      0\n",
       "ACCOUNT-STATUS_Active                   0\n",
       "ACCOUNT-STATUS_Closed                   0\n",
       "ACCOUNT-STATUS_Default                  0\n",
       "ACCT-TYPE_Business Loan                 0\n",
       "ACCT-TYPE_Credit Card                   0\n",
       "ACCT-TYPE_Personal Loan                 0\n",
       "OWNERSHIP-IND_Individual                0\n",
       "OWNERSHIP-IND_Joint                     0\n",
       "OWNERSHIP-IND_Primary                   0\n",
       "OWNERSHIP-IND_Supl Card Holder          0\n",
       "CONTRIBUTOR-TYPE_LOW_CONTRIBUTOR        0\n",
       "CONTRIBUTOR-TYPE_MID_CONTRIBUTOR        0\n",
       "CONTRIBUTOR-TYPE_TOP_CONTRIBUTOR        0\n",
       "Total-Loans                             0\n",
       "DISBURSED-AMT/HIGH CREDIT               0\n",
       "INSTALLMENT-AMT                         0\n",
       "CURRENT-BAL                             0\n",
       "OVERDUE-AMT                             0\n",
       "WRITE-OFF-AMT                           0\n",
       "Frequency                               0\n",
       "Installment_mode                        0\n",
       "Loan_status                             0\n",
       "Payment_mode                            0\n",
       "Branch_ID                               0\n",
       "Area                                11648\n",
       "Tenure                                  0\n",
       "Asset_cost                              0\n",
       "Amount_finance                          0\n",
       "Disbursal_amount                        0\n",
       "EMI                                     0\n",
       "Disbursal_date                          0\n",
       "Maturity_date                           0\n",
       "Auth_date                               0\n",
       "Asset_ID                                0\n",
       "Manufacturer_ID                         0\n",
       "Supplier_ID                             0\n",
       "Loan_To_Value                           0\n",
       "Sex                                     0\n",
       "Age                                     0\n",
       "Monthly_income                        181\n",
       "City                                 1367\n",
       "State                                   0\n",
       "Zipcode                               371\n",
       "Top-up_month                            0\n",
       "dtype: int64"
      ]
     },
     "execution_count": 13,
     "metadata": {},
     "output_type": "execute_result"
    }
   ],
   "source": [
    "train.isnull().sum()"
   ]
  },
  {
   "cell_type": "code",
   "execution_count": 32,
   "metadata": {},
   "outputs": [],
   "source": [
    "for i in range(len(train)):\n",
    "    if (pd.isnull(train.iloc[i,27])==True):\n",
    "        train.iloc[i,27] = train.iloc[i,43]"
   ]
  },
  {
   "cell_type": "code",
   "execution_count": 15,
   "metadata": {},
   "outputs": [
    {
     "data": {
      "text/plain": [
       "ID                                     0\n",
       "SELF-INDICATOR-TRUE                    0\n",
       "MATCH-TYPE_PRIMARY                     0\n",
       "ACCOUNT-STATUS_Active                  0\n",
       "ACCOUNT-STATUS_Closed                  0\n",
       "ACCOUNT-STATUS_Default                 0\n",
       "ACCT-TYPE_Business Loan                0\n",
       "ACCT-TYPE_Credit Card                  0\n",
       "ACCT-TYPE_Personal Loan                0\n",
       "OWNERSHIP-IND_Individual               0\n",
       "OWNERSHIP-IND_Joint                    0\n",
       "OWNERSHIP-IND_Primary                  0\n",
       "OWNERSHIP-IND_Supl Card Holder         0\n",
       "CONTRIBUTOR-TYPE_LOW_CONTRIBUTOR       0\n",
       "CONTRIBUTOR-TYPE_MID_CONTRIBUTOR       0\n",
       "CONTRIBUTOR-TYPE_TOP_CONTRIBUTOR       0\n",
       "Total-Loans                            0\n",
       "DISBURSED-AMT/HIGH CREDIT              0\n",
       "INSTALLMENT-AMT                        0\n",
       "CURRENT-BAL                            0\n",
       "OVERDUE-AMT                            0\n",
       "WRITE-OFF-AMT                          0\n",
       "Frequency                              0\n",
       "Installment_mode                       0\n",
       "Loan_status                            0\n",
       "Payment_mode                           0\n",
       "Branch_ID                              0\n",
       "Area                                 161\n",
       "Tenure                                 0\n",
       "Asset_cost                             0\n",
       "Amount_finance                         0\n",
       "Disbursal_amount                       0\n",
       "EMI                                    0\n",
       "Disbursal_date                         0\n",
       "Maturity_date                          0\n",
       "Auth_date                              0\n",
       "Asset_ID                               0\n",
       "Manufacturer_ID                        0\n",
       "Supplier_ID                            0\n",
       "Loan_To_Value                          0\n",
       "Sex                                    0\n",
       "Age                                    0\n",
       "Monthly_income                       181\n",
       "City                                1367\n",
       "State                                  0\n",
       "Zipcode                              371\n",
       "Top-up_month                           0\n",
       "dtype: int64"
      ]
     },
     "execution_count": 15,
     "metadata": {},
     "output_type": "execute_result"
    }
   ],
   "source": [
    "train.isnull().sum()"
   ]
  },
  {
   "cell_type": "code",
   "execution_count": 16,
   "metadata": {},
   "outputs": [
    {
     "data": {
      "text/plain": [
       "(128595, 47)"
      ]
     },
     "execution_count": 16,
     "metadata": {},
     "output_type": "execute_result"
    }
   ],
   "source": [
    "train.shape"
   ]
  },
  {
   "cell_type": "code",
   "execution_count": 17,
   "metadata": {},
   "outputs": [],
   "source": [
    "train = train[(train.Area.isnull()==False) | (train.City.isnull()==False) | (train.Zipcode.isnull()==False)]"
   ]
  },
  {
   "cell_type": "code",
   "execution_count": 18,
   "metadata": {},
   "outputs": [
    {
     "data": {
      "text/plain": [
       "ID                                     0\n",
       "SELF-INDICATOR-TRUE                    0\n",
       "MATCH-TYPE_PRIMARY                     0\n",
       "ACCOUNT-STATUS_Active                  0\n",
       "ACCOUNT-STATUS_Closed                  0\n",
       "ACCOUNT-STATUS_Default                 0\n",
       "ACCT-TYPE_Business Loan                0\n",
       "ACCT-TYPE_Credit Card                  0\n",
       "ACCT-TYPE_Personal Loan                0\n",
       "OWNERSHIP-IND_Individual               0\n",
       "OWNERSHIP-IND_Joint                    0\n",
       "OWNERSHIP-IND_Primary                  0\n",
       "OWNERSHIP-IND_Supl Card Holder         0\n",
       "CONTRIBUTOR-TYPE_LOW_CONTRIBUTOR       0\n",
       "CONTRIBUTOR-TYPE_MID_CONTRIBUTOR       0\n",
       "CONTRIBUTOR-TYPE_TOP_CONTRIBUTOR       0\n",
       "Total-Loans                            0\n",
       "DISBURSED-AMT/HIGH CREDIT              0\n",
       "INSTALLMENT-AMT                        0\n",
       "CURRENT-BAL                            0\n",
       "OVERDUE-AMT                            0\n",
       "WRITE-OFF-AMT                          0\n",
       "Frequency                              0\n",
       "Installment_mode                       0\n",
       "Loan_status                            0\n",
       "Payment_mode                           0\n",
       "Branch_ID                              0\n",
       "Area                                 114\n",
       "Tenure                                 0\n",
       "Asset_cost                             0\n",
       "Amount_finance                         0\n",
       "Disbursal_amount                       0\n",
       "EMI                                    0\n",
       "Disbursal_date                         0\n",
       "Maturity_date                          0\n",
       "Auth_date                              0\n",
       "Asset_ID                               0\n",
       "Manufacturer_ID                        0\n",
       "Supplier_ID                            0\n",
       "Loan_To_Value                          0\n",
       "Sex                                    0\n",
       "Age                                    0\n",
       "Monthly_income                       181\n",
       "City                                1320\n",
       "State                                  0\n",
       "Zipcode                              324\n",
       "Top-up_month                           0\n",
       "dtype: int64"
      ]
     },
     "execution_count": 18,
     "metadata": {},
     "output_type": "execute_result"
    }
   ],
   "source": [
    "train.isnull().sum()"
   ]
  },
  {
   "cell_type": "code",
   "execution_count": 19,
   "metadata": {
    "scrolled": true
   },
   "outputs": [
    {
     "data": {
      "text/plain": [
       "(128548, 47)"
      ]
     },
     "execution_count": 19,
     "metadata": {},
     "output_type": "execute_result"
    }
   ],
   "source": [
    "train.shape"
   ]
  },
  {
   "cell_type": "code",
   "execution_count": 20,
   "metadata": {},
   "outputs": [],
   "source": [
    "df = train.groupby(['State']).agg(lambda x:x.value_counts().index[0])"
   ]
  },
  {
   "cell_type": "code",
   "execution_count": 30,
   "metadata": {},
   "outputs": [],
   "source": [
    "for i in range(len(train)):\n",
    "    if (pd.isnull(train.iloc[i,43])==True):\n",
    "        state = train.iloc[i,44]\n",
    "        city = df.loc[state,'City']\n",
    "        train.iloc[i,43] = city"
   ]
  },
  {
   "cell_type": "code",
   "execution_count": 22,
   "metadata": {},
   "outputs": [
    {
     "data": {
      "text/plain": [
       "ID                                    0\n",
       "SELF-INDICATOR-TRUE                   0\n",
       "MATCH-TYPE_PRIMARY                    0\n",
       "ACCOUNT-STATUS_Active                 0\n",
       "ACCOUNT-STATUS_Closed                 0\n",
       "ACCOUNT-STATUS_Default                0\n",
       "ACCT-TYPE_Business Loan               0\n",
       "ACCT-TYPE_Credit Card                 0\n",
       "ACCT-TYPE_Personal Loan               0\n",
       "OWNERSHIP-IND_Individual              0\n",
       "OWNERSHIP-IND_Joint                   0\n",
       "OWNERSHIP-IND_Primary                 0\n",
       "OWNERSHIP-IND_Supl Card Holder        0\n",
       "CONTRIBUTOR-TYPE_LOW_CONTRIBUTOR      0\n",
       "CONTRIBUTOR-TYPE_MID_CONTRIBUTOR      0\n",
       "CONTRIBUTOR-TYPE_TOP_CONTRIBUTOR      0\n",
       "Total-Loans                           0\n",
       "DISBURSED-AMT/HIGH CREDIT             0\n",
       "INSTALLMENT-AMT                       0\n",
       "CURRENT-BAL                           0\n",
       "OVERDUE-AMT                           0\n",
       "WRITE-OFF-AMT                         0\n",
       "Frequency                             0\n",
       "Installment_mode                      0\n",
       "Loan_status                           0\n",
       "Payment_mode                          0\n",
       "Branch_ID                             0\n",
       "Area                                114\n",
       "Tenure                                0\n",
       "Asset_cost                            0\n",
       "Amount_finance                        0\n",
       "Disbursal_amount                      0\n",
       "EMI                                   0\n",
       "Disbursal_date                        0\n",
       "Maturity_date                         0\n",
       "Auth_date                             0\n",
       "Asset_ID                              0\n",
       "Manufacturer_ID                       0\n",
       "Supplier_ID                           0\n",
       "Loan_To_Value                         0\n",
       "Sex                                   0\n",
       "Age                                   0\n",
       "Monthly_income                      181\n",
       "City                                  0\n",
       "State                                 0\n",
       "Zipcode                             324\n",
       "Top-up_month                          0\n",
       "dtype: int64"
      ]
     },
     "execution_count": 22,
     "metadata": {},
     "output_type": "execute_result"
    }
   ],
   "source": [
    "train.isnull().sum()"
   ]
  },
  {
   "cell_type": "code",
   "execution_count": 71,
   "metadata": {},
   "outputs": [],
   "source": [
    "for i in range(len(train)):\n",
    "    if (pd.isnull(train.iloc[i,27])==True):\n",
    "        train.iloc[i,27] = train.iloc[i,43]"
   ]
  },
  {
   "cell_type": "code",
   "execution_count": 72,
   "metadata": {},
   "outputs": [
    {
     "data": {
      "text/plain": [
       "ID                                    0\n",
       "SELF-INDICATOR-TRUE                   0\n",
       "MATCH-TYPE_PRIMARY                    0\n",
       "ACCOUNT-STATUS_Active                 0\n",
       "ACCOUNT-STATUS_Closed                 0\n",
       "ACCOUNT-STATUS_Default                0\n",
       "ACCT-TYPE_Business Loan               0\n",
       "ACCT-TYPE_Credit Card                 0\n",
       "ACCT-TYPE_Personal Loan               0\n",
       "OWNERSHIP-IND_Individual              0\n",
       "OWNERSHIP-IND_Joint                   0\n",
       "OWNERSHIP-IND_Primary                 0\n",
       "OWNERSHIP-IND_Supl Card Holder        0\n",
       "CONTRIBUTOR-TYPE_LOW_CONTRIBUTOR      0\n",
       "CONTRIBUTOR-TYPE_MID_CONTRIBUTOR      0\n",
       "CONTRIBUTOR-TYPE_TOP_CONTRIBUTOR      0\n",
       "Total-Loans                           0\n",
       "DISBURSED-AMT/HIGH CREDIT             0\n",
       "INSTALLMENT-AMT                       0\n",
       "CURRENT-BAL                           0\n",
       "OVERDUE-AMT                           0\n",
       "WRITE-OFF-AMT                         0\n",
       "Frequency                             0\n",
       "Installment_mode                      0\n",
       "Loan_status                           0\n",
       "Payment_mode                          0\n",
       "Branch_ID                             0\n",
       "Area                                  0\n",
       "Tenure                                0\n",
       "Asset_cost                            0\n",
       "Amount_finance                        0\n",
       "Disbursal_amount                      0\n",
       "EMI                                   0\n",
       "Disbursal_date                        0\n",
       "Maturity_date                         0\n",
       "Auth_date                             0\n",
       "Asset_ID                              0\n",
       "Manufacturer_ID                       0\n",
       "Supplier_ID                           0\n",
       "Loan_To_Value                         0\n",
       "Sex                                   0\n",
       "Age                                   0\n",
       "Monthly_income                      181\n",
       "City                                  0\n",
       "State                                 0\n",
       "Zipcode                             324\n",
       "Top-up_month                          0\n",
       "dtype: int64"
      ]
     },
     "execution_count": 72,
     "metadata": {},
     "output_type": "execute_result"
    }
   ],
   "source": [
    "train.isnull().sum()"
   ]
  },
  {
   "cell_type": "code",
   "execution_count": 23,
   "metadata": {},
   "outputs": [],
   "source": [
    "dict_remaining_zipcode = train.set_index('City')['Zipcode'].to_dict()"
   ]
  },
  {
   "cell_type": "code",
   "execution_count": 24,
   "metadata": {},
   "outputs": [],
   "source": [
    "for i in range(len(train)):\n",
    "    if (pd.isnull(train.iloc[i,45])==True):\n",
    "        x = train.iloc[i,43]\n",
    "        train.iloc[i,45] = dict_remaining_zipcode.get(x)"
   ]
  },
  {
   "cell_type": "code",
   "execution_count": 25,
   "metadata": {},
   "outputs": [
    {
     "data": {
      "text/plain": [
       "ID                                    0\n",
       "SELF-INDICATOR-TRUE                   0\n",
       "MATCH-TYPE_PRIMARY                    0\n",
       "ACCOUNT-STATUS_Active                 0\n",
       "ACCOUNT-STATUS_Closed                 0\n",
       "ACCOUNT-STATUS_Default                0\n",
       "ACCT-TYPE_Business Loan               0\n",
       "ACCT-TYPE_Credit Card                 0\n",
       "ACCT-TYPE_Personal Loan               0\n",
       "OWNERSHIP-IND_Individual              0\n",
       "OWNERSHIP-IND_Joint                   0\n",
       "OWNERSHIP-IND_Primary                 0\n",
       "OWNERSHIP-IND_Supl Card Holder        0\n",
       "CONTRIBUTOR-TYPE_LOW_CONTRIBUTOR      0\n",
       "CONTRIBUTOR-TYPE_MID_CONTRIBUTOR      0\n",
       "CONTRIBUTOR-TYPE_TOP_CONTRIBUTOR      0\n",
       "Total-Loans                           0\n",
       "DISBURSED-AMT/HIGH CREDIT             0\n",
       "INSTALLMENT-AMT                       0\n",
       "CURRENT-BAL                           0\n",
       "OVERDUE-AMT                           0\n",
       "WRITE-OFF-AMT                         0\n",
       "Frequency                             0\n",
       "Installment_mode                      0\n",
       "Loan_status                           0\n",
       "Payment_mode                          0\n",
       "Branch_ID                             0\n",
       "Area                                114\n",
       "Tenure                                0\n",
       "Asset_cost                            0\n",
       "Amount_finance                        0\n",
       "Disbursal_amount                      0\n",
       "EMI                                   0\n",
       "Disbursal_date                        0\n",
       "Maturity_date                         0\n",
       "Auth_date                             0\n",
       "Asset_ID                              0\n",
       "Manufacturer_ID                       0\n",
       "Supplier_ID                           0\n",
       "Loan_To_Value                         0\n",
       "Sex                                   0\n",
       "Age                                   0\n",
       "Monthly_income                      181\n",
       "City                                  0\n",
       "State                                 0\n",
       "Zipcode                               0\n",
       "Top-up_month                          0\n",
       "dtype: int64"
      ]
     },
     "execution_count": 25,
     "metadata": {},
     "output_type": "execute_result"
    }
   ],
   "source": [
    "train.isnull().sum()"
   ]
  },
  {
   "cell_type": "code",
   "execution_count": 26,
   "metadata": {},
   "outputs": [],
   "source": [
    "median = train.groupby(['Age']).agg(lambda x:x.median())"
   ]
  },
  {
   "cell_type": "code",
   "execution_count": 27,
   "metadata": {},
   "outputs": [],
   "source": [
    "for i in range(len(train)):\n",
    "    if (pd.isnull(train.iloc[i,42])==True):\n",
    "        age = train.iloc[i,41]\n",
    "        monthly_income = median.loc[age,'Monthly_income']\n",
    "        train.iloc[i,42] = monthly_income "
   ]
  },
  {
   "cell_type": "code",
   "execution_count": 33,
   "metadata": {},
   "outputs": [
    {
     "data": {
      "text/plain": [
       "ID                                  0\n",
       "SELF-INDICATOR-TRUE                 0\n",
       "MATCH-TYPE_PRIMARY                  0\n",
       "ACCOUNT-STATUS_Active               0\n",
       "ACCOUNT-STATUS_Closed               0\n",
       "ACCOUNT-STATUS_Default              0\n",
       "ACCT-TYPE_Business Loan             0\n",
       "ACCT-TYPE_Credit Card               0\n",
       "ACCT-TYPE_Personal Loan             0\n",
       "OWNERSHIP-IND_Individual            0\n",
       "OWNERSHIP-IND_Joint                 0\n",
       "OWNERSHIP-IND_Primary               0\n",
       "OWNERSHIP-IND_Supl Card Holder      0\n",
       "CONTRIBUTOR-TYPE_LOW_CONTRIBUTOR    0\n",
       "CONTRIBUTOR-TYPE_MID_CONTRIBUTOR    0\n",
       "CONTRIBUTOR-TYPE_TOP_CONTRIBUTOR    0\n",
       "Total-Loans                         0\n",
       "DISBURSED-AMT/HIGH CREDIT           0\n",
       "INSTALLMENT-AMT                     0\n",
       "CURRENT-BAL                         0\n",
       "OVERDUE-AMT                         0\n",
       "WRITE-OFF-AMT                       0\n",
       "Frequency                           0\n",
       "Installment_mode                    0\n",
       "Loan_status                         0\n",
       "Payment_mode                        0\n",
       "Branch_ID                           0\n",
       "Area                                0\n",
       "Tenure                              0\n",
       "Asset_cost                          0\n",
       "Amount_finance                      0\n",
       "Disbursal_amount                    0\n",
       "EMI                                 0\n",
       "Disbursal_date                      0\n",
       "Maturity_date                       0\n",
       "Auth_date                           0\n",
       "Asset_ID                            0\n",
       "Manufacturer_ID                     0\n",
       "Supplier_ID                         0\n",
       "Loan_To_Value                       0\n",
       "Sex                                 0\n",
       "Age                                 0\n",
       "Monthly_income                      0\n",
       "City                                0\n",
       "State                               0\n",
       "Zipcode                             0\n",
       "Top-up_month                        0\n",
       "dtype: int64"
      ]
     },
     "execution_count": 33,
     "metadata": {},
     "output_type": "execute_result"
    }
   ],
   "source": [
    "train.isnull().sum()"
   ]
  },
  {
   "cell_type": "code",
   "execution_count": 80,
   "metadata": {},
   "outputs": [],
   "source": [
    "train.to_csv('train_preprocessed.csv',index=True)"
   ]
  },
  {
   "cell_type": "code",
   "execution_count": null,
   "metadata": {},
   "outputs": [],
   "source": [
    "#TEST PREPROCESSING "
   ]
  },
  {
   "cell_type": "code",
   "execution_count": 81,
   "metadata": {
    "scrolled": true
   },
   "outputs": [
    {
     "data": {
      "text/html": [
       "<div>\n",
       "<style scoped>\n",
       "    .dataframe tbody tr th:only-of-type {\n",
       "        vertical-align: middle;\n",
       "    }\n",
       "\n",
       "    .dataframe tbody tr th {\n",
       "        vertical-align: top;\n",
       "    }\n",
       "\n",
       "    .dataframe thead th {\n",
       "        text-align: right;\n",
       "    }\n",
       "</style>\n",
       "<table border=\"1\" class=\"dataframe\">\n",
       "  <thead>\n",
       "    <tr style=\"text-align: right;\">\n",
       "      <th></th>\n",
       "      <th>ID</th>\n",
       "      <th>SELF-INDICATOR-TRUE</th>\n",
       "      <th>MATCH-TYPE_PRIMARY</th>\n",
       "      <th>ACCOUNT-STATUS_Active</th>\n",
       "      <th>ACCOUNT-STATUS_Closed</th>\n",
       "      <th>ACCOUNT-STATUS_Default</th>\n",
       "      <th>ACCT-TYPE_Business Loan</th>\n",
       "      <th>ACCT-TYPE_Credit Card</th>\n",
       "      <th>ACCT-TYPE_Personal Loan</th>\n",
       "      <th>OWNERSHIP-IND_Individual</th>\n",
       "      <th>OWNERSHIP-IND_Joint</th>\n",
       "      <th>OWNERSHIP-IND_Primary</th>\n",
       "      <th>OWNERSHIP-IND_Supl Card Holder</th>\n",
       "      <th>CONTRIBUTOR-TYPE_LOW_CONTRIBUTOR</th>\n",
       "      <th>CONTRIBUTOR-TYPE_MID_CONTRIBUTOR</th>\n",
       "      <th>CONTRIBUTOR-TYPE_TOP_CONTRIBUTOR</th>\n",
       "      <th>Total-Loans</th>\n",
       "      <th>DISBURSED-AMT/HIGH CREDIT</th>\n",
       "      <th>INSTALLMENT-AMT</th>\n",
       "      <th>CURRENT-BAL</th>\n",
       "      <th>OVERDUE-AMT</th>\n",
       "      <th>WRITE-OFF-AMT</th>\n",
       "      <th>Frequency</th>\n",
       "      <th>InstlmentMode</th>\n",
       "      <th>LoanStatus</th>\n",
       "      <th>PaymentMode</th>\n",
       "      <th>BranchID</th>\n",
       "      <th>Area</th>\n",
       "      <th>Tenure</th>\n",
       "      <th>AssetCost</th>\n",
       "      <th>AmountFinance</th>\n",
       "      <th>DisbursalAmount</th>\n",
       "      <th>EMI</th>\n",
       "      <th>DisbursalDate</th>\n",
       "      <th>MaturityDAte</th>\n",
       "      <th>AuthDate</th>\n",
       "      <th>AssetID</th>\n",
       "      <th>ManufacturerID</th>\n",
       "      <th>SupplierID</th>\n",
       "      <th>LTV</th>\n",
       "      <th>SEX</th>\n",
       "      <th>AGE</th>\n",
       "      <th>MonthlyIncome</th>\n",
       "      <th>City</th>\n",
       "      <th>State</th>\n",
       "      <th>ZiPCODE</th>\n",
       "    </tr>\n",
       "  </thead>\n",
       "  <tbody>\n",
       "    <tr>\n",
       "      <th>0</th>\n",
       "      <td>4</td>\n",
       "      <td>1</td>\n",
       "      <td>4</td>\n",
       "      <td>3</td>\n",
       "      <td>1</td>\n",
       "      <td>0</td>\n",
       "      <td>0</td>\n",
       "      <td>1</td>\n",
       "      <td>3</td>\n",
       "      <td>2</td>\n",
       "      <td>2</td>\n",
       "      <td>0</td>\n",
       "      <td>0</td>\n",
       "      <td>0</td>\n",
       "      <td>4</td>\n",
       "      <td>0</td>\n",
       "      <td>4</td>\n",
       "      <td>2964588</td>\n",
       "      <td>8005.0</td>\n",
       "      <td>547818.500000</td>\n",
       "      <td>0.0</td>\n",
       "      <td>0</td>\n",
       "      <td>Monthly</td>\n",
       "      <td>Advance</td>\n",
       "      <td>Closed</td>\n",
       "      <td>PDC_E</td>\n",
       "      <td>2</td>\n",
       "      <td>GUNA</td>\n",
       "      <td>46</td>\n",
       "      <td>480000</td>\n",
       "      <td>365000.0</td>\n",
       "      <td>365000.0</td>\n",
       "      <td>1000.0</td>\n",
       "      <td>29-12-2011</td>\n",
       "      <td>05-10-2015</td>\n",
       "      <td>29-12-2011</td>\n",
       "      <td>3524747</td>\n",
       "      <td>1046.0</td>\n",
       "      <td>22354</td>\n",
       "      <td>75.83</td>\n",
       "      <td>M</td>\n",
       "      <td>50.0</td>\n",
       "      <td>32069.00</td>\n",
       "      <td>GUNA</td>\n",
       "      <td>MADHYA PRADESH</td>\n",
       "      <td>473001.0</td>\n",
       "    </tr>\n",
       "    <tr>\n",
       "      <th>1</th>\n",
       "      <td>5</td>\n",
       "      <td>1</td>\n",
       "      <td>8</td>\n",
       "      <td>2</td>\n",
       "      <td>6</td>\n",
       "      <td>0</td>\n",
       "      <td>0</td>\n",
       "      <td>0</td>\n",
       "      <td>8</td>\n",
       "      <td>6</td>\n",
       "      <td>2</td>\n",
       "      <td>0</td>\n",
       "      <td>0</td>\n",
       "      <td>1</td>\n",
       "      <td>4</td>\n",
       "      <td>3</td>\n",
       "      <td>8</td>\n",
       "      <td>1939813</td>\n",
       "      <td>1282.5</td>\n",
       "      <td>113403.875000</td>\n",
       "      <td>0.0</td>\n",
       "      <td>0</td>\n",
       "      <td>Monthly</td>\n",
       "      <td>Advance</td>\n",
       "      <td>Closed</td>\n",
       "      <td>PDC</td>\n",
       "      <td>2</td>\n",
       "      <td>GUNA</td>\n",
       "      <td>45</td>\n",
       "      <td>480000</td>\n",
       "      <td>285000.0</td>\n",
       "      <td>285000.0</td>\n",
       "      <td>9300.0</td>\n",
       "      <td>28-04-2012</td>\n",
       "      <td>01-01-2016</td>\n",
       "      <td>28-04-2012</td>\n",
       "      <td>4985862</td>\n",
       "      <td>1046.0</td>\n",
       "      <td>22354</td>\n",
       "      <td>57.44</td>\n",
       "      <td>M</td>\n",
       "      <td>35.0</td>\n",
       "      <td>25000.00</td>\n",
       "      <td>GUNA</td>\n",
       "      <td>MADHYA PRADESH</td>\n",
       "      <td>473001.0</td>\n",
       "    </tr>\n",
       "    <tr>\n",
       "      <th>2</th>\n",
       "      <td>6</td>\n",
       "      <td>2</td>\n",
       "      <td>12</td>\n",
       "      <td>1</td>\n",
       "      <td>11</td>\n",
       "      <td>0</td>\n",
       "      <td>0</td>\n",
       "      <td>0</td>\n",
       "      <td>12</td>\n",
       "      <td>6</td>\n",
       "      <td>1</td>\n",
       "      <td>0</td>\n",
       "      <td>0</td>\n",
       "      <td>0</td>\n",
       "      <td>11</td>\n",
       "      <td>1</td>\n",
       "      <td>12</td>\n",
       "      <td>3237361</td>\n",
       "      <td>0.0</td>\n",
       "      <td>8566.666667</td>\n",
       "      <td>0.0</td>\n",
       "      <td>0</td>\n",
       "      <td>Quatrly</td>\n",
       "      <td>Arrear</td>\n",
       "      <td>Closed</td>\n",
       "      <td>PDC</td>\n",
       "      <td>2</td>\n",
       "      <td>GUNA</td>\n",
       "      <td>48</td>\n",
       "      <td>580000</td>\n",
       "      <td>400000.0</td>\n",
       "      <td>400000.0</td>\n",
       "      <td>35800.0</td>\n",
       "      <td>22-10-2013</td>\n",
       "      <td>10-09-2017</td>\n",
       "      <td>22-10-2013</td>\n",
       "      <td>12881783</td>\n",
       "      <td>1060.0</td>\n",
       "      <td>65929</td>\n",
       "      <td>68.97</td>\n",
       "      <td>M</td>\n",
       "      <td>37.0</td>\n",
       "      <td>23333.33</td>\n",
       "      <td>GUNA</td>\n",
       "      <td>MADHYA PRADESH</td>\n",
       "      <td>473001.0</td>\n",
       "    </tr>\n",
       "    <tr>\n",
       "      <th>3</th>\n",
       "      <td>25</td>\n",
       "      <td>1</td>\n",
       "      <td>2</td>\n",
       "      <td>1</td>\n",
       "      <td>1</td>\n",
       "      <td>0</td>\n",
       "      <td>1</td>\n",
       "      <td>0</td>\n",
       "      <td>1</td>\n",
       "      <td>2</td>\n",
       "      <td>0</td>\n",
       "      <td>0</td>\n",
       "      <td>0</td>\n",
       "      <td>0</td>\n",
       "      <td>1</td>\n",
       "      <td>1</td>\n",
       "      <td>2</td>\n",
       "      <td>800000</td>\n",
       "      <td>0.0</td>\n",
       "      <td>63796.500000</td>\n",
       "      <td>0.0</td>\n",
       "      <td>0</td>\n",
       "      <td>Half Yearly</td>\n",
       "      <td>Arrear</td>\n",
       "      <td>Closed</td>\n",
       "      <td>Billed</td>\n",
       "      <td>154</td>\n",
       "      <td>NaN</td>\n",
       "      <td>36</td>\n",
       "      <td>725000</td>\n",
       "      <td>500000.0</td>\n",
       "      <td>500000.0</td>\n",
       "      <td>52000.0</td>\n",
       "      <td>21-05-2013</td>\n",
       "      <td>10-02-2016</td>\n",
       "      <td>21-05-2013</td>\n",
       "      <td>10613776</td>\n",
       "      <td>1049.0</td>\n",
       "      <td>68597</td>\n",
       "      <td>61.79</td>\n",
       "      <td>M</td>\n",
       "      <td>55.0</td>\n",
       "      <td>91666.67</td>\n",
       "      <td>MAHASAMUND</td>\n",
       "      <td>CHATTISGARH</td>\n",
       "      <td>493558.0</td>\n",
       "    </tr>\n",
       "    <tr>\n",
       "      <th>4</th>\n",
       "      <td>119</td>\n",
       "      <td>1</td>\n",
       "      <td>2</td>\n",
       "      <td>1</td>\n",
       "      <td>1</td>\n",
       "      <td>0</td>\n",
       "      <td>0</td>\n",
       "      <td>0</td>\n",
       "      <td>2</td>\n",
       "      <td>1</td>\n",
       "      <td>0</td>\n",
       "      <td>0</td>\n",
       "      <td>0</td>\n",
       "      <td>0</td>\n",
       "      <td>2</td>\n",
       "      <td>0</td>\n",
       "      <td>2</td>\n",
       "      <td>930000</td>\n",
       "      <td>8000.0</td>\n",
       "      <td>58100.000000</td>\n",
       "      <td>0.0</td>\n",
       "      <td>0</td>\n",
       "      <td>Quatrly</td>\n",
       "      <td>Arrear</td>\n",
       "      <td>Closed</td>\n",
       "      <td>PDC</td>\n",
       "      <td>194</td>\n",
       "      <td>CUTTACK</td>\n",
       "      <td>48</td>\n",
       "      <td>617000</td>\n",
       "      <td>400000.0</td>\n",
       "      <td>400000.0</td>\n",
       "      <td>35400.0</td>\n",
       "      <td>30-11-2012</td>\n",
       "      <td>05-12-2016</td>\n",
       "      <td>30-11-2012</td>\n",
       "      <td>7911110</td>\n",
       "      <td>1049.0</td>\n",
       "      <td>38493</td>\n",
       "      <td>59.09</td>\n",
       "      <td>M</td>\n",
       "      <td>48.0</td>\n",
       "      <td>12500.00</td>\n",
       "      <td>JAGATSINGHAPUR</td>\n",
       "      <td>ORISSA</td>\n",
       "      <td>754137.0</td>\n",
       "    </tr>\n",
       "  </tbody>\n",
       "</table>\n",
       "</div>"
      ],
      "text/plain": [
       "    ID  SELF-INDICATOR-TRUE  MATCH-TYPE_PRIMARY  ACCOUNT-STATUS_Active  \\\n",
       "0    4                    1                   4                      3   \n",
       "1    5                    1                   8                      2   \n",
       "2    6                    2                  12                      1   \n",
       "3   25                    1                   2                      1   \n",
       "4  119                    1                   2                      1   \n",
       "\n",
       "   ACCOUNT-STATUS_Closed  ACCOUNT-STATUS_Default  ACCT-TYPE_Business Loan  \\\n",
       "0                      1                       0                        0   \n",
       "1                      6                       0                        0   \n",
       "2                     11                       0                        0   \n",
       "3                      1                       0                        1   \n",
       "4                      1                       0                        0   \n",
       "\n",
       "   ACCT-TYPE_Credit Card  ACCT-TYPE_Personal Loan  OWNERSHIP-IND_Individual  \\\n",
       "0                      1                        3                         2   \n",
       "1                      0                        8                         6   \n",
       "2                      0                       12                         6   \n",
       "3                      0                        1                         2   \n",
       "4                      0                        2                         1   \n",
       "\n",
       "   OWNERSHIP-IND_Joint  OWNERSHIP-IND_Primary  OWNERSHIP-IND_Supl Card Holder  \\\n",
       "0                    2                      0                               0   \n",
       "1                    2                      0                               0   \n",
       "2                    1                      0                               0   \n",
       "3                    0                      0                               0   \n",
       "4                    0                      0                               0   \n",
       "\n",
       "   CONTRIBUTOR-TYPE_LOW_CONTRIBUTOR  CONTRIBUTOR-TYPE_MID_CONTRIBUTOR  \\\n",
       "0                                 0                                 4   \n",
       "1                                 1                                 4   \n",
       "2                                 0                                11   \n",
       "3                                 0                                 1   \n",
       "4                                 0                                 2   \n",
       "\n",
       "   CONTRIBUTOR-TYPE_TOP_CONTRIBUTOR  Total-Loans  DISBURSED-AMT/HIGH CREDIT  \\\n",
       "0                                 0            4                    2964588   \n",
       "1                                 3            8                    1939813   \n",
       "2                                 1           12                    3237361   \n",
       "3                                 1            2                     800000   \n",
       "4                                 0            2                     930000   \n",
       "\n",
       "   INSTALLMENT-AMT    CURRENT-BAL  OVERDUE-AMT  WRITE-OFF-AMT    Frequency  \\\n",
       "0           8005.0  547818.500000          0.0              0      Monthly   \n",
       "1           1282.5  113403.875000          0.0              0      Monthly   \n",
       "2              0.0    8566.666667          0.0              0      Quatrly   \n",
       "3              0.0   63796.500000          0.0              0  Half Yearly   \n",
       "4           8000.0   58100.000000          0.0              0      Quatrly   \n",
       "\n",
       "  InstlmentMode LoanStatus PaymentMode  BranchID     Area  Tenure  AssetCost  \\\n",
       "0       Advance     Closed       PDC_E         2     GUNA      46     480000   \n",
       "1       Advance     Closed         PDC         2     GUNA      45     480000   \n",
       "2        Arrear     Closed         PDC         2     GUNA      48     580000   \n",
       "3        Arrear     Closed      Billed       154      NaN      36     725000   \n",
       "4        Arrear     Closed         PDC       194  CUTTACK      48     617000   \n",
       "\n",
       "   AmountFinance  DisbursalAmount      EMI DisbursalDate MaturityDAte  \\\n",
       "0       365000.0         365000.0   1000.0    29-12-2011   05-10-2015   \n",
       "1       285000.0         285000.0   9300.0    28-04-2012   01-01-2016   \n",
       "2       400000.0         400000.0  35800.0    22-10-2013   10-09-2017   \n",
       "3       500000.0         500000.0  52000.0    21-05-2013   10-02-2016   \n",
       "4       400000.0         400000.0  35400.0    30-11-2012   05-12-2016   \n",
       "\n",
       "     AuthDate   AssetID  ManufacturerID  SupplierID    LTV SEX   AGE  \\\n",
       "0  29-12-2011   3524747          1046.0       22354  75.83   M  50.0   \n",
       "1  28-04-2012   4985862          1046.0       22354  57.44   M  35.0   \n",
       "2  22-10-2013  12881783          1060.0       65929  68.97   M  37.0   \n",
       "3  21-05-2013  10613776          1049.0       68597  61.79   M  55.0   \n",
       "4  30-11-2012   7911110          1049.0       38493  59.09   M  48.0   \n",
       "\n",
       "   MonthlyIncome            City           State   ZiPCODE  \n",
       "0       32069.00            GUNA  MADHYA PRADESH  473001.0  \n",
       "1       25000.00            GUNA  MADHYA PRADESH  473001.0  \n",
       "2       23333.33            GUNA  MADHYA PRADESH  473001.0  \n",
       "3       91666.67      MAHASAMUND     CHATTISGARH  493558.0  \n",
       "4       12500.00  JAGATSINGHAPUR          ORISSA  754137.0  "
      ]
     },
     "execution_count": 81,
     "metadata": {},
     "output_type": "execute_result"
    }
   ],
   "source": [
    "test.head()"
   ]
  },
  {
   "cell_type": "code",
   "execution_count": 88,
   "metadata": {},
   "outputs": [],
   "source": [
    "test=test.rename(columns={'InstlmentMode':'Installment_mode','LoanStatus':'Loan_status', 'PaymentMode':'Payment_mode',\n",
    "       'BranchID':'Branch_ID','AssetCost':'Asset_cost', 'AmountFinance':'Amount_finance',\n",
    "       'DisbursalAmount':'Disbursal_amount','DisbursalDate':'Disbursal_date','MaturityDAte':'Maturity_date', 'AuthDate':'Auth_date',\n",
    "       'AssetID':'Asset_ID', 'ManufacturerID':'Manufacturer_ID', 'SupplierID':'Supplier_ID', 'LTV':'Loan_To_Value', 'SEX':'Sex', 'AGE':'Age',\n",
    "       'MonthlyIncome':'Monthly_income', 'ZiPCODE':'Zipcode'})"
   ]
  },
  {
   "cell_type": "code",
   "execution_count": 89,
   "metadata": {},
   "outputs": [
    {
     "data": {
      "text/plain": [
       "ID                                    0\n",
       "SELF-INDICATOR-TRUE                   0\n",
       "MATCH-TYPE_PRIMARY                    0\n",
       "ACCOUNT-STATUS_Active                 0\n",
       "ACCOUNT-STATUS_Closed                 0\n",
       "ACCOUNT-STATUS_Default                0\n",
       "ACCT-TYPE_Business Loan               0\n",
       "ACCT-TYPE_Credit Card                 0\n",
       "ACCT-TYPE_Personal Loan               0\n",
       "OWNERSHIP-IND_Individual              0\n",
       "OWNERSHIP-IND_Joint                   0\n",
       "OWNERSHIP-IND_Primary                 0\n",
       "OWNERSHIP-IND_Supl Card Holder        0\n",
       "CONTRIBUTOR-TYPE_LOW_CONTRIBUTOR      0\n",
       "CONTRIBUTOR-TYPE_MID_CONTRIBUTOR      0\n",
       "CONTRIBUTOR-TYPE_TOP_CONTRIBUTOR      0\n",
       "Total-Loans                           0\n",
       "DISBURSED-AMT/HIGH CREDIT             0\n",
       "INSTALLMENT-AMT                       0\n",
       "CURRENT-BAL                           0\n",
       "OVERDUE-AMT                           0\n",
       "WRITE-OFF-AMT                         0\n",
       "Frequency                             0\n",
       "Installment_mode                      0\n",
       "Loan_status                           0\n",
       "Payment_mode                          0\n",
       "Branch_ID                             0\n",
       "Area                                546\n",
       "Tenure                                0\n",
       "Asset_cost                            0\n",
       "Amount_finance                        0\n",
       "Disbursal_amount                      0\n",
       "EMI                                   0\n",
       "Disbursal_date                        0\n",
       "Maturity_date                         0\n",
       "Auth_date                             0\n",
       "Asset_ID                              0\n",
       "Manufacturer_ID                       2\n",
       "Supplier_ID                           0\n",
       "Loan_To_Value                         0\n",
       "Sex                                   5\n",
       "Age                                   7\n",
       "Monthly_income                       14\n",
       "City                                  0\n",
       "State                                 0\n",
       "Zipcode                               1\n",
       "dtype: int64"
      ]
     },
     "execution_count": 89,
     "metadata": {},
     "output_type": "execute_result"
    }
   ],
   "source": [
    "test.isnull().sum()"
   ]
  },
  {
   "cell_type": "code",
   "execution_count": 90,
   "metadata": {},
   "outputs": [],
   "source": [
    "test['Sex'].fillna(\"M\",inplace=True)"
   ]
  },
  {
   "cell_type": "code",
   "execution_count": 91,
   "metadata": {},
   "outputs": [
    {
     "data": {
      "text/plain": [
       "ID                                    0\n",
       "SELF-INDICATOR-TRUE                   0\n",
       "MATCH-TYPE_PRIMARY                    0\n",
       "ACCOUNT-STATUS_Active                 0\n",
       "ACCOUNT-STATUS_Closed                 0\n",
       "ACCOUNT-STATUS_Default                0\n",
       "ACCT-TYPE_Business Loan               0\n",
       "ACCT-TYPE_Credit Card                 0\n",
       "ACCT-TYPE_Personal Loan               0\n",
       "OWNERSHIP-IND_Individual              0\n",
       "OWNERSHIP-IND_Joint                   0\n",
       "OWNERSHIP-IND_Primary                 0\n",
       "OWNERSHIP-IND_Supl Card Holder        0\n",
       "CONTRIBUTOR-TYPE_LOW_CONTRIBUTOR      0\n",
       "CONTRIBUTOR-TYPE_MID_CONTRIBUTOR      0\n",
       "CONTRIBUTOR-TYPE_TOP_CONTRIBUTOR      0\n",
       "Total-Loans                           0\n",
       "DISBURSED-AMT/HIGH CREDIT             0\n",
       "INSTALLMENT-AMT                       0\n",
       "CURRENT-BAL                           0\n",
       "OVERDUE-AMT                           0\n",
       "WRITE-OFF-AMT                         0\n",
       "Frequency                             0\n",
       "Installment_mode                      0\n",
       "Loan_status                           0\n",
       "Payment_mode                          0\n",
       "Branch_ID                             0\n",
       "Area                                546\n",
       "Tenure                                0\n",
       "Asset_cost                            0\n",
       "Amount_finance                        0\n",
       "Disbursal_amount                      0\n",
       "EMI                                   0\n",
       "Disbursal_date                        0\n",
       "Maturity_date                         0\n",
       "Auth_date                             0\n",
       "Asset_ID                              0\n",
       "Manufacturer_ID                       2\n",
       "Supplier_ID                           0\n",
       "Loan_To_Value                         0\n",
       "Sex                                   0\n",
       "Age                                   7\n",
       "Monthly_income                       14\n",
       "City                                  0\n",
       "State                                 0\n",
       "Zipcode                               1\n",
       "dtype: int64"
      ]
     },
     "execution_count": 91,
     "metadata": {},
     "output_type": "execute_result"
    }
   ],
   "source": [
    "test.isnull().sum()"
   ]
  },
  {
   "cell_type": "code",
   "execution_count": 93,
   "metadata": {},
   "outputs": [],
   "source": [
    "test['Zipcode'].fillna(491335,inplace=True)"
   ]
  },
  {
   "cell_type": "code",
   "execution_count": 94,
   "metadata": {},
   "outputs": [],
   "source": [
    "test['Manufacturer_ID'].fillna(1019,inplace=True)"
   ]
  },
  {
   "cell_type": "code",
   "execution_count": 95,
   "metadata": {},
   "outputs": [
    {
     "data": {
      "text/plain": [
       "ID                                    0\n",
       "SELF-INDICATOR-TRUE                   0\n",
       "MATCH-TYPE_PRIMARY                    0\n",
       "ACCOUNT-STATUS_Active                 0\n",
       "ACCOUNT-STATUS_Closed                 0\n",
       "ACCOUNT-STATUS_Default                0\n",
       "ACCT-TYPE_Business Loan               0\n",
       "ACCT-TYPE_Credit Card                 0\n",
       "ACCT-TYPE_Personal Loan               0\n",
       "OWNERSHIP-IND_Individual              0\n",
       "OWNERSHIP-IND_Joint                   0\n",
       "OWNERSHIP-IND_Primary                 0\n",
       "OWNERSHIP-IND_Supl Card Holder        0\n",
       "CONTRIBUTOR-TYPE_LOW_CONTRIBUTOR      0\n",
       "CONTRIBUTOR-TYPE_MID_CONTRIBUTOR      0\n",
       "CONTRIBUTOR-TYPE_TOP_CONTRIBUTOR      0\n",
       "Total-Loans                           0\n",
       "DISBURSED-AMT/HIGH CREDIT             0\n",
       "INSTALLMENT-AMT                       0\n",
       "CURRENT-BAL                           0\n",
       "OVERDUE-AMT                           0\n",
       "WRITE-OFF-AMT                         0\n",
       "Frequency                             0\n",
       "Installment_mode                      0\n",
       "Loan_status                           0\n",
       "Payment_mode                          0\n",
       "Branch_ID                             0\n",
       "Area                                546\n",
       "Tenure                                0\n",
       "Asset_cost                            0\n",
       "Amount_finance                        0\n",
       "Disbursal_amount                      0\n",
       "EMI                                   0\n",
       "Disbursal_date                        0\n",
       "Maturity_date                         0\n",
       "Auth_date                             0\n",
       "Asset_ID                              0\n",
       "Manufacturer_ID                       0\n",
       "Supplier_ID                           0\n",
       "Loan_To_Value                         0\n",
       "Sex                                   0\n",
       "Age                                   7\n",
       "Monthly_income                       14\n",
       "City                                  0\n",
       "State                                 0\n",
       "Zipcode                               0\n",
       "dtype: int64"
      ]
     },
     "execution_count": 95,
     "metadata": {},
     "output_type": "execute_result"
    }
   ],
   "source": [
    "test.isnull().sum()"
   ]
  },
  {
   "cell_type": "code",
   "execution_count": 96,
   "metadata": {},
   "outputs": [],
   "source": [
    "test['Age'].fillna(40,inplace=True)"
   ]
  },
  {
   "cell_type": "code",
   "execution_count": 97,
   "metadata": {},
   "outputs": [],
   "source": [
    "for i in range(len(test)):\n",
    "    if (pd.isnull(test.iloc[i,27])==True):\n",
    "        test.iloc[i,27] = test.iloc[i,43]"
   ]
  },
  {
   "cell_type": "code",
   "execution_count": 98,
   "metadata": {},
   "outputs": [
    {
     "data": {
      "text/plain": [
       "ID                                   0\n",
       "SELF-INDICATOR-TRUE                  0\n",
       "MATCH-TYPE_PRIMARY                   0\n",
       "ACCOUNT-STATUS_Active                0\n",
       "ACCOUNT-STATUS_Closed                0\n",
       "ACCOUNT-STATUS_Default               0\n",
       "ACCT-TYPE_Business Loan              0\n",
       "ACCT-TYPE_Credit Card                0\n",
       "ACCT-TYPE_Personal Loan              0\n",
       "OWNERSHIP-IND_Individual             0\n",
       "OWNERSHIP-IND_Joint                  0\n",
       "OWNERSHIP-IND_Primary                0\n",
       "OWNERSHIP-IND_Supl Card Holder       0\n",
       "CONTRIBUTOR-TYPE_LOW_CONTRIBUTOR     0\n",
       "CONTRIBUTOR-TYPE_MID_CONTRIBUTOR     0\n",
       "CONTRIBUTOR-TYPE_TOP_CONTRIBUTOR     0\n",
       "Total-Loans                          0\n",
       "DISBURSED-AMT/HIGH CREDIT            0\n",
       "INSTALLMENT-AMT                      0\n",
       "CURRENT-BAL                          0\n",
       "OVERDUE-AMT                          0\n",
       "WRITE-OFF-AMT                        0\n",
       "Frequency                            0\n",
       "Installment_mode                     0\n",
       "Loan_status                          0\n",
       "Payment_mode                         0\n",
       "Branch_ID                            0\n",
       "Area                                 0\n",
       "Tenure                               0\n",
       "Asset_cost                           0\n",
       "Amount_finance                       0\n",
       "Disbursal_amount                     0\n",
       "EMI                                  0\n",
       "Disbursal_date                       0\n",
       "Maturity_date                        0\n",
       "Auth_date                            0\n",
       "Asset_ID                             0\n",
       "Manufacturer_ID                      0\n",
       "Supplier_ID                          0\n",
       "Loan_To_Value                        0\n",
       "Sex                                  0\n",
       "Age                                  0\n",
       "Monthly_income                      14\n",
       "City                                 0\n",
       "State                                0\n",
       "Zipcode                              0\n",
       "dtype: int64"
      ]
     },
     "execution_count": 98,
     "metadata": {},
     "output_type": "execute_result"
    }
   ],
   "source": [
    "test.isnull().sum()"
   ]
  },
  {
   "cell_type": "code",
   "execution_count": 99,
   "metadata": {},
   "outputs": [],
   "source": [
    "median_test = test.groupby(['Age']).agg(lambda x:x.median())"
   ]
  },
  {
   "cell_type": "code",
   "execution_count": 100,
   "metadata": {},
   "outputs": [],
   "source": [
    "for i in range(len(test)):\n",
    "    if (pd.isnull(test.iloc[i,42])==True):\n",
    "        age = test.iloc[i,41]\n",
    "        monthly_income = median_test.loc[age,'Monthly_income']\n",
    "        test.iloc[i,42] = monthly_income "
   ]
  },
  {
   "cell_type": "code",
   "execution_count": 101,
   "metadata": {},
   "outputs": [
    {
     "data": {
      "text/plain": [
       "ID                                  0\n",
       "SELF-INDICATOR-TRUE                 0\n",
       "MATCH-TYPE_PRIMARY                  0\n",
       "ACCOUNT-STATUS_Active               0\n",
       "ACCOUNT-STATUS_Closed               0\n",
       "ACCOUNT-STATUS_Default              0\n",
       "ACCT-TYPE_Business Loan             0\n",
       "ACCT-TYPE_Credit Card               0\n",
       "ACCT-TYPE_Personal Loan             0\n",
       "OWNERSHIP-IND_Individual            0\n",
       "OWNERSHIP-IND_Joint                 0\n",
       "OWNERSHIP-IND_Primary               0\n",
       "OWNERSHIP-IND_Supl Card Holder      0\n",
       "CONTRIBUTOR-TYPE_LOW_CONTRIBUTOR    0\n",
       "CONTRIBUTOR-TYPE_MID_CONTRIBUTOR    0\n",
       "CONTRIBUTOR-TYPE_TOP_CONTRIBUTOR    0\n",
       "Total-Loans                         0\n",
       "DISBURSED-AMT/HIGH CREDIT           0\n",
       "INSTALLMENT-AMT                     0\n",
       "CURRENT-BAL                         0\n",
       "OVERDUE-AMT                         0\n",
       "WRITE-OFF-AMT                       0\n",
       "Frequency                           0\n",
       "Installment_mode                    0\n",
       "Loan_status                         0\n",
       "Payment_mode                        0\n",
       "Branch_ID                           0\n",
       "Area                                0\n",
       "Tenure                              0\n",
       "Asset_cost                          0\n",
       "Amount_finance                      0\n",
       "Disbursal_amount                    0\n",
       "EMI                                 0\n",
       "Disbursal_date                      0\n",
       "Maturity_date                       0\n",
       "Auth_date                           0\n",
       "Asset_ID                            0\n",
       "Manufacturer_ID                     0\n",
       "Supplier_ID                         0\n",
       "Loan_To_Value                       0\n",
       "Sex                                 0\n",
       "Age                                 0\n",
       "Monthly_income                      0\n",
       "City                                0\n",
       "State                               0\n",
       "Zipcode                             0\n",
       "dtype: int64"
      ]
     },
     "execution_count": 101,
     "metadata": {},
     "output_type": "execute_result"
    }
   ],
   "source": [
    "test.isnull().sum()"
   ]
  },
  {
   "cell_type": "code",
   "execution_count": 102,
   "metadata": {},
   "outputs": [],
   "source": [
    "test.to_csv('test_preprocessed.csv',index=True)"
   ]
  },
  {
   "cell_type": "code",
   "execution_count": 103,
   "metadata": {},
   "outputs": [],
   "source": [
    "#MORE PREPROCESSING"
   ]
  },
  {
   "cell_type": "code",
   "execution_count": 104,
   "metadata": {},
   "outputs": [
    {
     "data": {
      "text/plain": [
       "(Index(['ID', 'SELF-INDICATOR-TRUE', 'MATCH-TYPE_PRIMARY',\n",
       "        'ACCOUNT-STATUS_Active', 'ACCOUNT-STATUS_Closed',\n",
       "        'ACCOUNT-STATUS_Default', 'ACCT-TYPE_Business Loan',\n",
       "        'ACCT-TYPE_Credit Card', 'ACCT-TYPE_Personal Loan',\n",
       "        'OWNERSHIP-IND_Individual', 'OWNERSHIP-IND_Joint',\n",
       "        'OWNERSHIP-IND_Primary', 'OWNERSHIP-IND_Supl Card Holder',\n",
       "        'CONTRIBUTOR-TYPE_LOW_CONTRIBUTOR', 'CONTRIBUTOR-TYPE_MID_CONTRIBUTOR',\n",
       "        'CONTRIBUTOR-TYPE_TOP_CONTRIBUTOR', 'Total-Loans',\n",
       "        'DISBURSED-AMT/HIGH CREDIT', 'INSTALLMENT-AMT', 'CURRENT-BAL',\n",
       "        'OVERDUE-AMT', 'WRITE-OFF-AMT', 'Frequency', 'Installment_mode',\n",
       "        'Loan_status', 'Payment_mode', 'Branch_ID', 'Area', 'Tenure',\n",
       "        'Asset_cost', 'Amount_finance', 'Disbursal_amount', 'EMI',\n",
       "        'Disbursal_date', 'Maturity_date', 'Auth_date', 'Asset_ID',\n",
       "        'Manufacturer_ID', 'Supplier_ID', 'Loan_To_Value', 'Sex', 'Age',\n",
       "        'Monthly_income', 'City', 'State', 'Zipcode', 'Top-up_month'],\n",
       "       dtype='object'),\n",
       " Index(['ID', 'SELF-INDICATOR-TRUE', 'MATCH-TYPE_PRIMARY',\n",
       "        'ACCOUNT-STATUS_Active', 'ACCOUNT-STATUS_Closed',\n",
       "        'ACCOUNT-STATUS_Default', 'ACCT-TYPE_Business Loan',\n",
       "        'ACCT-TYPE_Credit Card', 'ACCT-TYPE_Personal Loan',\n",
       "        'OWNERSHIP-IND_Individual', 'OWNERSHIP-IND_Joint',\n",
       "        'OWNERSHIP-IND_Primary', 'OWNERSHIP-IND_Supl Card Holder',\n",
       "        'CONTRIBUTOR-TYPE_LOW_CONTRIBUTOR', 'CONTRIBUTOR-TYPE_MID_CONTRIBUTOR',\n",
       "        'CONTRIBUTOR-TYPE_TOP_CONTRIBUTOR', 'Total-Loans',\n",
       "        'DISBURSED-AMT/HIGH CREDIT', 'INSTALLMENT-AMT', 'CURRENT-BAL',\n",
       "        'OVERDUE-AMT', 'WRITE-OFF-AMT', 'Frequency', 'Installment_mode',\n",
       "        'Loan_status', 'Payment_mode', 'Branch_ID', 'Area', 'Tenure',\n",
       "        'Asset_cost', 'Amount_finance', 'Disbursal_amount', 'EMI',\n",
       "        'Disbursal_date', 'Maturity_date', 'Auth_date', 'Asset_ID',\n",
       "        'Manufacturer_ID', 'Supplier_ID', 'Loan_To_Value', 'Sex', 'Age',\n",
       "        'Monthly_income', 'City', 'State', 'Zipcode'],\n",
       "       dtype='object'))"
      ]
     },
     "execution_count": 104,
     "metadata": {},
     "output_type": "execute_result"
    }
   ],
   "source": [
    "train.columns,test.columns"
   ]
  },
  {
   "cell_type": "code",
   "execution_count": 105,
   "metadata": {},
   "outputs": [
    {
     "data": {
      "text/plain": [
       "((128548, 47), (14745, 46))"
      ]
     },
     "execution_count": 105,
     "metadata": {},
     "output_type": "execute_result"
    }
   ],
   "source": [
    "train.shape,test.shape"
   ]
  },
  {
   "cell_type": "code",
   "execution_count": 106,
   "metadata": {},
   "outputs": [
    {
     "data": {
      "text/plain": [
       "ID                                    int64\n",
       "SELF-INDICATOR-TRUE                   int64\n",
       "MATCH-TYPE_PRIMARY                    int64\n",
       "ACCOUNT-STATUS_Active                 int64\n",
       "ACCOUNT-STATUS_Closed                 int64\n",
       "ACCOUNT-STATUS_Default                int64\n",
       "ACCT-TYPE_Business Loan               int64\n",
       "ACCT-TYPE_Credit Card                 int64\n",
       "ACCT-TYPE_Personal Loan               int64\n",
       "OWNERSHIP-IND_Individual              int64\n",
       "OWNERSHIP-IND_Joint                   int64\n",
       "OWNERSHIP-IND_Primary                 int64\n",
       "OWNERSHIP-IND_Supl Card Holder        int64\n",
       "CONTRIBUTOR-TYPE_LOW_CONTRIBUTOR      int64\n",
       "CONTRIBUTOR-TYPE_MID_CONTRIBUTOR      int64\n",
       "CONTRIBUTOR-TYPE_TOP_CONTRIBUTOR      int64\n",
       "Total-Loans                           int64\n",
       "DISBURSED-AMT/HIGH CREDIT             int64\n",
       "INSTALLMENT-AMT                     float64\n",
       "CURRENT-BAL                         float64\n",
       "OVERDUE-AMT                         float64\n",
       "WRITE-OFF-AMT                         int64\n",
       "Frequency                            object\n",
       "Installment_mode                     object\n",
       "Loan_status                          object\n",
       "Payment_mode                         object\n",
       "Branch_ID                             int64\n",
       "Area                                 object\n",
       "Tenure                                int64\n",
       "Asset_cost                            int64\n",
       "Amount_finance                      float64\n",
       "Disbursal_amount                    float64\n",
       "EMI                                 float64\n",
       "Disbursal_date                       object\n",
       "Maturity_date                        object\n",
       "Auth_date                            object\n",
       "Asset_ID                              int64\n",
       "Manufacturer_ID                       int64\n",
       "Supplier_ID                           int64\n",
       "Loan_To_Value                       float64\n",
       "Sex                                  object\n",
       "Age                                 float64\n",
       "Monthly_income                      float64\n",
       "City                                 object\n",
       "State                                object\n",
       "Zipcode                             float64\n",
       "Top-up_month                         object\n",
       "dtype: object"
      ]
     },
     "execution_count": 106,
     "metadata": {},
     "output_type": "execute_result"
    }
   ],
   "source": [
    "train.dtypes"
   ]
  },
  {
   "cell_type": "code",
   "execution_count": 108,
   "metadata": {},
   "outputs": [],
   "source": [
    "train[\"days\"] = (pd.to_datetime(train['Maturity_date']) - pd.to_datetime(train['Disbursal_date'])).dt.days\n",
    "test[\"days\"] = (pd.to_datetime(test['Maturity_date']) - pd.to_datetime(test['Disbursal_date'])).dt.days"
   ]
  },
  {
   "cell_type": "code",
   "execution_count": 109,
   "metadata": {},
   "outputs": [
    {
     "data": {
      "text/plain": [
       "((128548, 48), (14745, 47))"
      ]
     },
     "execution_count": 109,
     "metadata": {},
     "output_type": "execute_result"
    }
   ],
   "source": [
    "train.shape,test.shape"
   ]
  },
  {
   "cell_type": "code",
   "execution_count": 111,
   "metadata": {},
   "outputs": [],
   "source": [
    "train.loc[train['Top-up_month']==\"No Top-up Service\", 'Top-up_month'] = 0\n",
    "train.loc[train['Top-up_month']==\"12-18 Months\", 'Top-up_month'] = 1\n",
    "train.loc[train['Top-up_month']==\"18-24 Months\", 'Top-up_month'] = 2\n",
    "train.loc[train['Top-up_month']==\"24-30 Months\", 'Top-up_month'] = 3\n",
    "train.loc[train['Top-up_month']==\"30-36 Months\", 'Top-up_month'] = 4\n",
    "train.loc[train['Top-up_month']==\"36-48 Months\", 'Top-up_month'] = 5\n",
    "train.loc[train['Top-up_month']==\" > 48 Months\", 'Top-up_month'] = 6"
   ]
  },
  {
   "cell_type": "code",
   "execution_count": 113,
   "metadata": {},
   "outputs": [],
   "source": [
    "train = train.drop(columns=['Disbursal_date','Maturity_date','Auth_date'],axis=1)\n",
    "test = test.drop(columns=['Disbursal_date','Maturity_date','Auth_date'],axis=1)"
   ]
  },
  {
   "cell_type": "code",
   "execution_count": 114,
   "metadata": {},
   "outputs": [
    {
     "data": {
      "text/plain": [
       "((128548, 45), (14745, 44))"
      ]
     },
     "execution_count": 114,
     "metadata": {},
     "output_type": "execute_result"
    }
   ],
   "source": [
    "train.shape,test.shape"
   ]
  },
  {
   "cell_type": "code",
   "execution_count": 115,
   "metadata": {},
   "outputs": [
    {
     "data": {
      "text/plain": [
       "array(['MADHYA PRADESH', 'CHATTISGARH', 'ORISSA', 'BIHAR', 'WEST BENGAL',\n",
       "       'RAJASTHAN', 'HARYANA', 'PUNJAB', 'HIMACHAL PRADESH',\n",
       "       'UTTAR PRADESH', 'UTTARAKHAND', 'KARNATAKA', 'ANDHRA PRADESH',\n",
       "       'TELANGANA', 'GUJARAT', 'MAHARASHTRA', 'DELHI', 'ASSAM',\n",
       "       'JHARKHAND', 'TAMIL NADU', 'DADRA AND NAGAR HAVELI', 'CHANDIGARH'],\n",
       "      dtype=object)"
      ]
     },
     "execution_count": 115,
     "metadata": {},
     "output_type": "execute_result"
    }
   ],
   "source": [
    "train.State.unique()"
   ]
  },
  {
   "cell_type": "code",
   "execution_count": 116,
   "metadata": {},
   "outputs": [
    {
     "data": {
      "text/plain": [
       "array(['MADHYA PRADESH', 'CHATTISGARH', 'ORISSA', 'WEST BENGAL',\n",
       "       'HARYANA', 'RAJASTHAN', 'PUNJAB', 'UTTAR PRADESH', 'UTTARAKHAND',\n",
       "       'ANDHRA PRADESH', 'GUJARAT', 'MAHARASHTRA', 'KARNATAKA',\n",
       "       'TELANGANA', 'JHARKHAND', 'DELHI', 'BIHAR', 'HIMACHAL PRADESH'],\n",
       "      dtype=object)"
      ]
     },
     "execution_count": 116,
     "metadata": {},
     "output_type": "execute_result"
    }
   ],
   "source": [
    "test.State.unique()"
   ]
  },
  {
   "cell_type": "code",
   "execution_count": 134,
   "metadata": {},
   "outputs": [],
   "source": [
    "train_copy = train.copy()\n",
    "test_copy = test.copy()"
   ]
  },
  {
   "cell_type": "code",
   "execution_count": 135,
   "metadata": {},
   "outputs": [
    {
     "data": {
      "text/plain": [
       "((128548, 45), (14745, 44))"
      ]
     },
     "execution_count": 135,
     "metadata": {},
     "output_type": "execute_result"
    }
   ],
   "source": [
    "train_copy.shape,test_copy.shape"
   ]
  },
  {
   "cell_type": "code",
   "execution_count": 136,
   "metadata": {},
   "outputs": [],
   "source": [
    "train_copy = train_copy[(train_copy['State'] == 'MADHYA PRADESH') | (train_copy['State'] == 'CHATTISGARH') | (train_copy['State'] == 'ORISSA') |\n",
    "                       (train_copy['State'] == 'WEST BENGAL') | (train_copy['State'] == 'HARYANA') | (train_copy['State'] == 'RAJASTHAN') |\n",
    "                       (train_copy['State'] == 'PUNJAB') | (train_copy['State'] == 'UTTAR PRADESH') | (train_copy['State'] == 'UTTARAKHAND') |\n",
    "                       (train_copy['State'] == 'ANDHRA PRADESH') | (train_copy['State'] == 'GUJARAT') | (train_copy['State'] == 'MAHARASHTRA') | \n",
    "                       (train_copy['State'] == 'KARNATAKA') | (train_copy['State'] == 'TELANGANA') | (train_copy['State'] == 'JHARKHAND') | \n",
    "                       (train_copy['State'] == 'DELHI') | (train_copy['State'] == 'BIHAR') | (train_copy['State'] == 'HIMACHAL PRADESH')]"
   ]
  },
  {
   "cell_type": "code",
   "execution_count": 137,
   "metadata": {
    "scrolled": true
   },
   "outputs": [
    {
     "data": {
      "text/plain": [
       "array(['MADHYA PRADESH', 'CHATTISGARH', 'ORISSA', 'BIHAR', 'WEST BENGAL',\n",
       "       'RAJASTHAN', 'HARYANA', 'PUNJAB', 'HIMACHAL PRADESH',\n",
       "       'UTTAR PRADESH', 'UTTARAKHAND', 'KARNATAKA', 'ANDHRA PRADESH',\n",
       "       'TELANGANA', 'GUJARAT', 'MAHARASHTRA', 'DELHI', 'JHARKHAND'],\n",
       "      dtype=object)"
      ]
     },
     "execution_count": 137,
     "metadata": {},
     "output_type": "execute_result"
    }
   ],
   "source": [
    "train_copy.State.unique()"
   ]
  },
  {
   "cell_type": "code",
   "execution_count": 138,
   "metadata": {
    "scrolled": false
   },
   "outputs": [
    {
     "data": {
      "text/plain": [
       "(128534, 45)"
      ]
     },
     "execution_count": 138,
     "metadata": {},
     "output_type": "execute_result"
    }
   ],
   "source": [
    "train_copy.shape"
   ]
  },
  {
   "cell_type": "code",
   "execution_count": 139,
   "metadata": {},
   "outputs": [
    {
     "data": {
      "text/plain": [
       "array(['Monthly', 'Quatrly', 'Half Yearly', 'BI-Monthly'], dtype=object)"
      ]
     },
     "execution_count": 139,
     "metadata": {},
     "output_type": "execute_result"
    }
   ],
   "source": [
    "train_copy.Frequency.unique()"
   ]
  },
  {
   "cell_type": "code",
   "execution_count": 140,
   "metadata": {},
   "outputs": [],
   "source": [
    "train_copy = train_copy[(train_copy['Frequency'] != 'BI-Monthly')]"
   ]
  },
  {
   "cell_type": "code",
   "execution_count": 141,
   "metadata": {},
   "outputs": [
    {
     "data": {
      "text/plain": [
       "(128072, 45)"
      ]
     },
     "execution_count": 141,
     "metadata": {},
     "output_type": "execute_result"
    }
   ],
   "source": [
    "train_copy.shape"
   ]
  },
  {
   "cell_type": "code",
   "execution_count": 143,
   "metadata": {},
   "outputs": [],
   "source": [
    "train_copy = train_copy[(train_copy['Payment_mode'] != 'Escrow')]"
   ]
  },
  {
   "cell_type": "code",
   "execution_count": 174,
   "metadata": {},
   "outputs": [
    {
     "data": {
      "text/plain": [
       "((128065, 45), (14745, 44))"
      ]
     },
     "execution_count": 174,
     "metadata": {},
     "output_type": "execute_result"
    }
   ],
   "source": [
    "train_copy.shape,test_copy.shape"
   ]
  },
  {
   "cell_type": "code",
   "execution_count": 181,
   "metadata": {},
   "outputs": [],
   "source": [
    "train_copy.to_csv('train_preprocessed.csv',index=True)"
   ]
  },
  {
   "cell_type": "code",
   "execution_count": 182,
   "metadata": {},
   "outputs": [],
   "source": [
    "test_copy.to_csv('test_preprocessed.csv',index=True)"
   ]
  },
  {
   "cell_type": "code",
   "execution_count": 183,
   "metadata": {},
   "outputs": [
    {
     "data": {
      "text/plain": [
       "(Index(['ID', 'SELF-INDICATOR-TRUE', 'MATCH-TYPE_PRIMARY',\n",
       "        'ACCOUNT-STATUS_Active', 'ACCOUNT-STATUS_Closed',\n",
       "        'ACCOUNT-STATUS_Default', 'ACCT-TYPE_Business Loan',\n",
       "        'ACCT-TYPE_Credit Card', 'ACCT-TYPE_Personal Loan',\n",
       "        'OWNERSHIP-IND_Individual', 'OWNERSHIP-IND_Joint',\n",
       "        'OWNERSHIP-IND_Primary', 'OWNERSHIP-IND_Supl Card Holder',\n",
       "        'CONTRIBUTOR-TYPE_LOW_CONTRIBUTOR', 'CONTRIBUTOR-TYPE_MID_CONTRIBUTOR',\n",
       "        'CONTRIBUTOR-TYPE_TOP_CONTRIBUTOR', 'Total-Loans',\n",
       "        'DISBURSED-AMT/HIGH CREDIT', 'INSTALLMENT-AMT', 'CURRENT-BAL',\n",
       "        'OVERDUE-AMT', 'WRITE-OFF-AMT', 'Frequency', 'Installment_mode',\n",
       "        'Loan_status', 'Payment_mode', 'Branch_ID', 'Area', 'Tenure',\n",
       "        'Asset_cost', 'Amount_finance', 'Disbursal_amount', 'EMI', 'Asset_ID',\n",
       "        'Manufacturer_ID', 'Supplier_ID', 'Loan_To_Value', 'Sex', 'Age',\n",
       "        'Monthly_income', 'City', 'State', 'Zipcode', 'Top-up_month', 'days'],\n",
       "       dtype='object'),\n",
       " Index(['ID', 'SELF-INDICATOR-TRUE', 'MATCH-TYPE_PRIMARY',\n",
       "        'ACCOUNT-STATUS_Active', 'ACCOUNT-STATUS_Closed',\n",
       "        'ACCOUNT-STATUS_Default', 'ACCT-TYPE_Business Loan',\n",
       "        'ACCT-TYPE_Credit Card', 'ACCT-TYPE_Personal Loan',\n",
       "        'OWNERSHIP-IND_Individual', 'OWNERSHIP-IND_Joint',\n",
       "        'OWNERSHIP-IND_Primary', 'OWNERSHIP-IND_Supl Card Holder',\n",
       "        'CONTRIBUTOR-TYPE_LOW_CONTRIBUTOR', 'CONTRIBUTOR-TYPE_MID_CONTRIBUTOR',\n",
       "        'CONTRIBUTOR-TYPE_TOP_CONTRIBUTOR', 'Total-Loans',\n",
       "        'DISBURSED-AMT/HIGH CREDIT', 'INSTALLMENT-AMT', 'CURRENT-BAL',\n",
       "        'OVERDUE-AMT', 'WRITE-OFF-AMT', 'Frequency', 'Installment_mode',\n",
       "        'Loan_status', 'Payment_mode', 'Branch_ID', 'Area', 'Tenure',\n",
       "        'Asset_cost', 'Amount_finance', 'Disbursal_amount', 'EMI', 'Asset_ID',\n",
       "        'Manufacturer_ID', 'Supplier_ID', 'Loan_To_Value', 'Sex', 'Age',\n",
       "        'Monthly_income', 'City', 'State', 'Zipcode', 'days'],\n",
       "       dtype='object'))"
      ]
     },
     "execution_count": 183,
     "metadata": {},
     "output_type": "execute_result"
    }
   ],
   "source": [
    "train_copy.columns,test_copy.columns"
   ]
  },
  {
   "cell_type": "code",
   "execution_count": 184,
   "metadata": {},
   "outputs": [],
   "source": [
    "train_copy = train_copy.drop(columns=['ID'],axis=1)\n",
    "test_copy = test_copy.drop(columns=['ID'],axis=1)"
   ]
  },
  {
   "cell_type": "code",
   "execution_count": 185,
   "metadata": {},
   "outputs": [
    {
     "data": {
      "text/plain": [
       "((128065, 44), (14745, 43))"
      ]
     },
     "execution_count": 185,
     "metadata": {},
     "output_type": "execute_result"
    }
   ],
   "source": [
    "train_copy.shape,test_copy.shape"
   ]
  },
  {
   "cell_type": "code",
   "execution_count": 186,
   "metadata": {},
   "outputs": [
    {
     "data": {
      "text/plain": [
       "SELF-INDICATOR-TRUE                   int64\n",
       "MATCH-TYPE_PRIMARY                    int64\n",
       "ACCOUNT-STATUS_Active                 int64\n",
       "ACCOUNT-STATUS_Closed                 int64\n",
       "ACCOUNT-STATUS_Default                int64\n",
       "ACCT-TYPE_Business Loan               int64\n",
       "ACCT-TYPE_Credit Card                 int64\n",
       "ACCT-TYPE_Personal Loan               int64\n",
       "OWNERSHIP-IND_Individual              int64\n",
       "OWNERSHIP-IND_Joint                   int64\n",
       "OWNERSHIP-IND_Primary                 int64\n",
       "OWNERSHIP-IND_Supl Card Holder        int64\n",
       "CONTRIBUTOR-TYPE_LOW_CONTRIBUTOR      int64\n",
       "CONTRIBUTOR-TYPE_MID_CONTRIBUTOR      int64\n",
       "CONTRIBUTOR-TYPE_TOP_CONTRIBUTOR      int64\n",
       "Total-Loans                           int64\n",
       "DISBURSED-AMT/HIGH CREDIT             int64\n",
       "INSTALLMENT-AMT                     float64\n",
       "CURRENT-BAL                         float64\n",
       "OVERDUE-AMT                         float64\n",
       "WRITE-OFF-AMT                         int64\n",
       "Frequency                            object\n",
       "Installment_mode                     object\n",
       "Loan_status                          object\n",
       "Payment_mode                         object\n",
       "Branch_ID                             int64\n",
       "Area                                 object\n",
       "Tenure                                int64\n",
       "Asset_cost                            int64\n",
       "Amount_finance                      float64\n",
       "Disbursal_amount                    float64\n",
       "EMI                                 float64\n",
       "Asset_ID                              int64\n",
       "Manufacturer_ID                       int64\n",
       "Supplier_ID                           int64\n",
       "Loan_To_Value                       float64\n",
       "Sex                                  object\n",
       "Age                                 float64\n",
       "Monthly_income                      float64\n",
       "City                                 object\n",
       "State                                object\n",
       "Zipcode                             float64\n",
       "Top-up_month                         object\n",
       "days                                  int64\n",
       "dtype: object"
      ]
     },
     "execution_count": 186,
     "metadata": {},
     "output_type": "execute_result"
    }
   ],
   "source": [
    "train_copy.dtypes"
   ]
  },
  {
   "cell_type": "code",
   "execution_count": 187,
   "metadata": {},
   "outputs": [],
   "source": [
    "from sklearn import preprocessing\n",
    "lbl = preprocessing.LabelEncoder()\n",
    "train_copy['Area'] = lbl.fit_transform(train_copy['Area'].astype(str))\n",
    "train_copy['City'] = lbl.fit_transform(train_copy['City'].astype(str))"
   ]
  },
  {
   "cell_type": "code",
   "execution_count": 188,
   "metadata": {},
   "outputs": [],
   "source": [
    "from sklearn import preprocessing\n",
    "lbl = preprocessing.LabelEncoder()\n",
    "test_copy['Area'] = lbl.fit_transform(test_copy['Area'].astype(str))\n",
    "test_copy['City'] = lbl.fit_transform(test_copy['City'].astype(str))"
   ]
  },
  {
   "cell_type": "code",
   "execution_count": 196,
   "metadata": {},
   "outputs": [],
   "source": [
    "train_copy.loc[train_copy['Top-up_month']==\"No Top-up Service\", 'Top-up_month'] = 0\n",
    "train_copy.loc[train_copy['Top-up_month']==\"12-18 Months\", 'Top-up_month'] = 1\n",
    "train_copy.loc[train_copy['Top-up_month']==\"18-24 Months\", 'Top-up_month'] = 2\n",
    "train_copy.loc[train_copy['Top-up_month']==\"24-30 Months\", 'Top-up_month'] = 3\n",
    "train_copy.loc[train_copy['Top-up_month']==\"30-36 Months\", 'Top-up_month'] = 4\n",
    "train_copy.loc[train_copy['Top-up_month']==\"36-48 Months\", 'Top-up_month'] = 5\n",
    "train_copy.loc[train_copy['Top-up_month']==\" > 48 Months\", 'Top-up_month'] = 6"
   ]
  },
  {
   "cell_type": "code",
   "execution_count": 192,
   "metadata": {},
   "outputs": [],
   "source": [
    "def init_encoder(df, col_names_list):\n",
    "    d={}\n",
    "    for col_name in col_names_list:\n",
    "        d[col_name]=df[col_name].unique().tolist()\n",
    "    return d\n",
    "\n",
    "def one_hot_encoder(df, var_dict):\n",
    "    for var, vals in var_dict.items():\n",
    "        for val in vals:\n",
    "            df[val] = df[var].apply(lambda x: 1 if val in x else 0)"
   ]
  },
  {
   "cell_type": "code",
   "execution_count": 193,
   "metadata": {},
   "outputs": [],
   "source": [
    "d = init_encoder(train_copy, ['Frequency','Installment_mode','Loan_status','Payment_mode','State','Sex'])\n",
    "one_hot_encoder(train_copy, d)"
   ]
  },
  {
   "cell_type": "code",
   "execution_count": 199,
   "metadata": {},
   "outputs": [],
   "source": [
    "train_copy = train_copy.drop(columns=['Frequency','Installment_mode','Loan_status','Payment_mode','State','Sex'],axis=1)"
   ]
  },
  {
   "cell_type": "code",
   "execution_count": 201,
   "metadata": {},
   "outputs": [
    {
     "data": {
      "text/plain": [
       "(128065, 75)"
      ]
     },
     "execution_count": 201,
     "metadata": {},
     "output_type": "execute_result"
    }
   ],
   "source": [
    "train_copy.shape"
   ]
  },
  {
   "cell_type": "code",
   "execution_count": 202,
   "metadata": {},
   "outputs": [],
   "source": [
    "d = init_encoder(test_copy, ['Frequency','Installment_mode','Loan_status','Payment_mode','State','Sex'])\n",
    "one_hot_encoder(test_copy, d)"
   ]
  },
  {
   "cell_type": "code",
   "execution_count": 203,
   "metadata": {},
   "outputs": [],
   "source": [
    "test_copy = test_copy.drop(columns=['Frequency','Installment_mode','Loan_status','Payment_mode','State','Sex'],axis=1)"
   ]
  },
  {
   "cell_type": "code",
   "execution_count": 223,
   "metadata": {
    "scrolled": true
   },
   "outputs": [
    {
     "data": {
      "text/plain": [
       "(14745, 72)"
      ]
     },
     "execution_count": 223,
     "metadata": {},
     "output_type": "execute_result"
    }
   ],
   "source": [
    "test_copy.shape"
   ]
  },
  {
   "cell_type": "code",
   "execution_count": 252,
   "metadata": {},
   "outputs": [],
   "source": [
    "#test_copy = test_copy.drop(columns=['Branch_ID','Supplier_ID'],axis=1)\n",
    "test_copy = test_copy.drop(columns=['Asset_ID','Manufacturer_ID','ACCOUNT-STATUS_Default','Disbursal_amount'],axis=1)"
   ]
  },
  {
   "cell_type": "code",
   "execution_count": 255,
   "metadata": {},
   "outputs": [
    {
     "data": {
      "text/plain": [
       "(14745, 66)"
      ]
     },
     "execution_count": 255,
     "metadata": {},
     "output_type": "execute_result"
    }
   ],
   "source": [
    "test_copy.shape"
   ]
  },
  {
   "cell_type": "code",
   "execution_count": 253,
   "metadata": {},
   "outputs": [],
   "source": [
    "X_train = train_copy.drop(columns=['Top-up_month','Area','City','Branch_ID','Supplier_ID','Asset_ID','Manufacturer_ID',\n",
    "                                  'ACCOUNT-STATUS_Default','Disbursal_amount'],axis=1)\n",
    "y_train = train_copy['Top-up_month']"
   ]
  },
  {
   "cell_type": "code",
   "execution_count": 254,
   "metadata": {},
   "outputs": [
    {
     "data": {
      "text/plain": [
       "(128065, 66)"
      ]
     },
     "execution_count": 254,
     "metadata": {},
     "output_type": "execute_result"
    }
   ],
   "source": [
    "X_train.shape"
   ]
  },
  {
   "cell_type": "code",
   "execution_count": 256,
   "metadata": {
    "scrolled": true
   },
   "outputs": [
    {
     "data": {
      "text/plain": [
       "XGBClassifier(base_score=0.5, booster='gbtree', colsample_bylevel=1,\n",
       "              colsample_bynode=1, colsample_bytree=1, gamma=0, gpu_id=-1,\n",
       "              importance_type='gain', interaction_constraints='',\n",
       "              learning_rate=0.5, max_delta_step=0, max_depth=6,\n",
       "              min_child_weight=1, missing=nan, monotone_constraints='()',\n",
       "              n_estimators=100, n_jobs=0, num_parallel_tree=1,\n",
       "              objective='multi:softprob', random_state=0, reg_alpha=0,\n",
       "              reg_lambda=1, scale_pos_weight=None, subsample=1,\n",
       "              tree_method='exact', validate_parameters=1, verbosity=None)"
      ]
     },
     "execution_count": 256,
     "metadata": {},
     "output_type": "execute_result"
    }
   ],
   "source": [
    "from xgboost import XGBClassifier\n",
    "from xgboost import plot_importance\n",
    "model=XGBClassifier(learning_rate=0.5)\n",
    "model.fit(X_train,y_train)"
   ]
  },
  {
   "cell_type": "code",
   "execution_count": 211,
   "metadata": {
    "scrolled": true
   },
   "outputs": [
    {
     "name": "stdout",
     "output_type": "stream",
     "text": [
      "Index(['SELF-INDICATOR-TRUE', 'MATCH-TYPE_PRIMARY', 'ACCOUNT-STATUS_Active',\n",
      "       'ACCOUNT-STATUS_Closed', 'ACCOUNT-STATUS_Default',\n",
      "       'ACCT-TYPE_Business Loan', 'ACCT-TYPE_Credit Card',\n",
      "       'ACCT-TYPE_Personal Loan', 'OWNERSHIP-IND_Individual',\n",
      "       'OWNERSHIP-IND_Joint', 'OWNERSHIP-IND_Primary',\n",
      "       'OWNERSHIP-IND_Supl Card Holder', 'CONTRIBUTOR-TYPE_LOW_CONTRIBUTOR',\n",
      "       'CONTRIBUTOR-TYPE_MID_CONTRIBUTOR', 'CONTRIBUTOR-TYPE_TOP_CONTRIBUTOR',\n",
      "       'Total-Loans', 'DISBURSED-AMT/HIGH CREDIT', 'INSTALLMENT-AMT',\n",
      "       'CURRENT-BAL', 'OVERDUE-AMT', 'WRITE-OFF-AMT', 'Branch_ID', 'Area',\n",
      "       'Tenure', 'Asset_cost', 'Amount_finance', 'Disbursal_amount', 'EMI',\n",
      "       'Asset_ID', 'Manufacturer_ID', 'Supplier_ID', 'Loan_To_Value', 'Age',\n",
      "       'Monthly_income', 'City', 'Zipcode', 'days', 'Monthly', 'Quatrly',\n",
      "       'Half Yearly', 'Arrear', 'Advance', 'Closed', 'Active', 'PDC_E', 'PDC',\n",
      "       'Direct Debit', 'Billed', 'ECS', 'Auto Debit', 'SI Reject',\n",
      "       'ECS Reject', 'Cheque', 'PDC Reject', 'MADHYA PRADESH', 'CHATTISGARH',\n",
      "       'ORISSA', 'BIHAR', 'WEST BENGAL', 'RAJASTHAN', 'HARYANA', 'PUNJAB',\n",
      "       'HIMACHAL PRADESH', 'UTTAR PRADESH', 'UTTARAKHAND', 'KARNATAKA',\n",
      "       'ANDHRA PRADESH', 'TELANGANA', 'GUJARAT', 'MAHARASHTRA', 'DELHI',\n",
      "       'JHARKHAND', 'M', 'F'],\n",
      "      dtype='object')\n",
      "Index(['SELF-INDICATOR-TRUE', 'MATCH-TYPE_PRIMARY', 'ACCOUNT-STATUS_Active',\n",
      "       'ACCOUNT-STATUS_Closed', 'ACCOUNT-STATUS_Default',\n",
      "       'ACCT-TYPE_Business Loan', 'ACCT-TYPE_Credit Card',\n",
      "       'ACCT-TYPE_Personal Loan', 'OWNERSHIP-IND_Individual',\n",
      "       'OWNERSHIP-IND_Joint', 'OWNERSHIP-IND_Primary',\n",
      "       'OWNERSHIP-IND_Supl Card Holder', 'CONTRIBUTOR-TYPE_LOW_CONTRIBUTOR',\n",
      "       'CONTRIBUTOR-TYPE_MID_CONTRIBUTOR', 'CONTRIBUTOR-TYPE_TOP_CONTRIBUTOR',\n",
      "       'Total-Loans', 'DISBURSED-AMT/HIGH CREDIT', 'INSTALLMENT-AMT',\n",
      "       'CURRENT-BAL', 'OVERDUE-AMT', 'WRITE-OFF-AMT', 'Branch_ID', 'Area',\n",
      "       'Tenure', 'Asset_cost', 'Amount_finance', 'Disbursal_amount', 'EMI',\n",
      "       'Asset_ID', 'Manufacturer_ID', 'Supplier_ID', 'Loan_To_Value', 'Age',\n",
      "       'Monthly_income', 'City', 'Zipcode', 'days', 'Monthly', 'Quatrly',\n",
      "       'Half Yearly', 'Advance', 'Arrear', 'Closed', 'Active', 'PDC_E', 'PDC',\n",
      "       'Billed', 'Direct Debit', 'ECS', 'ECS Reject', 'SI Reject', 'Cheque',\n",
      "       'Auto Debit', 'PDC Reject', 'MADHYA PRADESH', 'CHATTISGARH', 'ORISSA',\n",
      "       'WEST BENGAL', 'HARYANA', 'RAJASTHAN', 'PUNJAB', 'UTTAR PRADESH',\n",
      "       'UTTARAKHAND', 'ANDHRA PRADESH', 'GUJARAT', 'MAHARASHTRA', 'KARNATAKA',\n",
      "       'TELANGANA', 'JHARKHAND', 'DELHI', 'BIHAR', 'HIMACHAL PRADESH', 'M',\n",
      "       'F'],\n",
      "      dtype='object')\n"
     ]
    }
   ],
   "source": [
    "print(X_train.columns)\n",
    "print(test_copy.columns)"
   ]
  },
  {
   "cell_type": "code",
   "execution_count": 257,
   "metadata": {},
   "outputs": [],
   "source": [
    "test_final = test_copy[['SELF-INDICATOR-TRUE', 'MATCH-TYPE_PRIMARY', 'ACCOUNT-STATUS_Active',\n",
    "       'ACCOUNT-STATUS_Closed',\n",
    "       'ACCT-TYPE_Business Loan', 'ACCT-TYPE_Credit Card',\n",
    "       'ACCT-TYPE_Personal Loan', 'OWNERSHIP-IND_Individual',\n",
    "       'OWNERSHIP-IND_Joint', 'OWNERSHIP-IND_Primary',\n",
    "       'OWNERSHIP-IND_Supl Card Holder', 'CONTRIBUTOR-TYPE_LOW_CONTRIBUTOR',\n",
    "       'CONTRIBUTOR-TYPE_MID_CONTRIBUTOR', 'CONTRIBUTOR-TYPE_TOP_CONTRIBUTOR',\n",
    "       'Total-Loans', 'DISBURSED-AMT/HIGH CREDIT', 'INSTALLMENT-AMT',\n",
    "       'CURRENT-BAL', 'OVERDUE-AMT', 'WRITE-OFF-AMT',\n",
    "       'Tenure', 'Asset_cost', 'Amount_finance', 'EMI',\n",
    "       'Loan_To_Value', 'Age',\n",
    "       'Monthly_income', 'Zipcode', 'days', 'Monthly', 'Quatrly',\n",
    "       'Half Yearly', 'Arrear', 'Advance', 'Closed', 'Active', 'PDC_E', 'PDC',\n",
    "       'Direct Debit', 'Billed', 'ECS', 'Auto Debit', 'SI Reject',\n",
    "       'ECS Reject', 'Cheque', 'PDC Reject', 'MADHYA PRADESH', 'CHATTISGARH',\n",
    "       'ORISSA', 'BIHAR', 'WEST BENGAL', 'RAJASTHAN', 'HARYANA', 'PUNJAB',\n",
    "       'HIMACHAL PRADESH', 'UTTAR PRADESH', 'UTTARAKHAND', 'KARNATAKA',\n",
    "       'ANDHRA PRADESH', 'TELANGANA', 'GUJARAT', 'MAHARASHTRA', 'DELHI',\n",
    "       'JHARKHAND', 'M', 'F']]"
   ]
  },
  {
   "cell_type": "code",
   "execution_count": 258,
   "metadata": {},
   "outputs": [],
   "source": [
    "y_pred = model.predict(test_final)\n",
    "d={'ID':test['ID'],'Top-up Month':y_pred}\n",
    "df=pd.DataFrame(data=d)"
   ]
  },
  {
   "cell_type": "code",
   "execution_count": 259,
   "metadata": {},
   "outputs": [],
   "source": [
    "def turn_string(i):\n",
    "    if i == 0:\n",
    "        return 'No Top-up Service'\n",
    "    elif i == 1:\n",
    "        return '12-18 Months'\n",
    "    elif i == 5:\n",
    "        return '36-48 Months'\n",
    "    elif i == 3:\n",
    "        return '24-30 Months'\n",
    "    elif i == 6:\n",
    "        return ' > 48 Months'\n",
    "    elif i == 2:\n",
    "        return '18-24 Months'\n",
    "    elif i == 4:\n",
    "        return '30-36 Months'\n",
    "    \n",
    "result = map(lambda x: turn_string(x), df['Top-up Month'])\n",
    "res=list(result)"
   ]
  },
  {
   "cell_type": "code",
   "execution_count": 260,
   "metadata": {},
   "outputs": [],
   "source": [
    "l={'ID':test['ID'],'Top-up Month':res}"
   ]
  },
  {
   "cell_type": "code",
   "execution_count": 261,
   "metadata": {},
   "outputs": [],
   "source": [
    "l={'ID':test['ID'],'Top-up Month':res}\n",
    "df1=pd.DataFrame(data=l)"
   ]
  },
  {
   "cell_type": "code",
   "execution_count": 262,
   "metadata": {},
   "outputs": [
    {
     "data": {
      "text/html": [
       "<div>\n",
       "<style scoped>\n",
       "    .dataframe tbody tr th:only-of-type {\n",
       "        vertical-align: middle;\n",
       "    }\n",
       "\n",
       "    .dataframe tbody tr th {\n",
       "        vertical-align: top;\n",
       "    }\n",
       "\n",
       "    .dataframe thead th {\n",
       "        text-align: right;\n",
       "    }\n",
       "</style>\n",
       "<table border=\"1\" class=\"dataframe\">\n",
       "  <thead>\n",
       "    <tr style=\"text-align: right;\">\n",
       "      <th></th>\n",
       "      <th>ID</th>\n",
       "      <th>Top-up Month</th>\n",
       "    </tr>\n",
       "  </thead>\n",
       "  <tbody>\n",
       "    <tr>\n",
       "      <th>0</th>\n",
       "      <td>4</td>\n",
       "      <td>No Top-up Service</td>\n",
       "    </tr>\n",
       "    <tr>\n",
       "      <th>1</th>\n",
       "      <td>5</td>\n",
       "      <td>No Top-up Service</td>\n",
       "    </tr>\n",
       "    <tr>\n",
       "      <th>2</th>\n",
       "      <td>6</td>\n",
       "      <td>No Top-up Service</td>\n",
       "    </tr>\n",
       "    <tr>\n",
       "      <th>3</th>\n",
       "      <td>25</td>\n",
       "      <td>No Top-up Service</td>\n",
       "    </tr>\n",
       "    <tr>\n",
       "      <th>4</th>\n",
       "      <td>119</td>\n",
       "      <td>No Top-up Service</td>\n",
       "    </tr>\n",
       "    <tr>\n",
       "      <th>...</th>\n",
       "      <td>...</td>\n",
       "      <td>...</td>\n",
       "    </tr>\n",
       "    <tr>\n",
       "      <th>14740</th>\n",
       "      <td>143396</td>\n",
       "      <td>No Top-up Service</td>\n",
       "    </tr>\n",
       "    <tr>\n",
       "      <th>14741</th>\n",
       "      <td>143397</td>\n",
       "      <td>No Top-up Service</td>\n",
       "    </tr>\n",
       "    <tr>\n",
       "      <th>14742</th>\n",
       "      <td>143398</td>\n",
       "      <td>No Top-up Service</td>\n",
       "    </tr>\n",
       "    <tr>\n",
       "      <th>14743</th>\n",
       "      <td>143399</td>\n",
       "      <td>No Top-up Service</td>\n",
       "    </tr>\n",
       "    <tr>\n",
       "      <th>14744</th>\n",
       "      <td>143400</td>\n",
       "      <td>No Top-up Service</td>\n",
       "    </tr>\n",
       "  </tbody>\n",
       "</table>\n",
       "<p>14745 rows × 2 columns</p>\n",
       "</div>"
      ],
      "text/plain": [
       "           ID       Top-up Month\n",
       "0           4  No Top-up Service\n",
       "1           5  No Top-up Service\n",
       "2           6  No Top-up Service\n",
       "3          25  No Top-up Service\n",
       "4         119  No Top-up Service\n",
       "...       ...                ...\n",
       "14740  143396  No Top-up Service\n",
       "14741  143397  No Top-up Service\n",
       "14742  143398  No Top-up Service\n",
       "14743  143399  No Top-up Service\n",
       "14744  143400  No Top-up Service\n",
       "\n",
       "[14745 rows x 2 columns]"
      ]
     },
     "execution_count": 262,
     "metadata": {},
     "output_type": "execute_result"
    }
   ],
   "source": [
    "df1"
   ]
  },
  {
   "cell_type": "code",
   "execution_count": 263,
   "metadata": {},
   "outputs": [
    {
     "data": {
      "text/plain": [
       "No Top-up Service    14167\n",
       " > 48 Months           416\n",
       "24-30 Months            52\n",
       "36-48 Months            37\n",
       "30-36 Months            34\n",
       "18-24 Months            30\n",
       "12-18 Months             9\n",
       "Name: Top-up Month, dtype: int64"
      ]
     },
     "execution_count": 263,
     "metadata": {},
     "output_type": "execute_result"
    }
   ],
   "source": [
    "df1['Top-up Month'].value_counts()"
   ]
  },
  {
   "cell_type": "code",
   "execution_count": 264,
   "metadata": {},
   "outputs": [],
   "source": [
    "df1.to_csv(\"ltfssubmission.csv\")"
   ]
  }
 ],
 "metadata": {
  "kernelspec": {
   "display_name": "Python 3",
   "language": "python",
   "name": "python3"
  },
  "language_info": {
   "codemirror_mode": {
    "name": "ipython",
    "version": 3
   },
   "file_extension": ".py",
   "mimetype": "text/x-python",
   "name": "python",
   "nbconvert_exporter": "python",
   "pygments_lexer": "ipython3",
   "version": "3.8.3"
  }
 },
 "nbformat": 4,
 "nbformat_minor": 4
}
